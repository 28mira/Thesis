{
 "cells": [
  {
   "cell_type": "code",
   "execution_count": 1,
   "id": "bcfec34f-0706-4435-8d87-575c2bc8f2a2",
   "metadata": {},
   "outputs": [],
   "source": [
    "import pandas as pd\n",
    "import os\n",
    "import cv2\n",
    "import csv\n",
    "import scipy.io\n",
    "import numpy as np\n",
    "import matplotlib.pyplot as plt\n",
    "import pandas as pd\n",
    "from PIL import Image\n",
    "import h5py\n",
    "from torchvision import transforms\n",
    "import tensorflow as tf"
   ]
  },
  {
   "cell_type": "code",
   "execution_count": 2,
   "id": "4167ccb8-de52-4059-ba0b-38c41e662cce",
   "metadata": {},
   "outputs": [],
   "source": [
    "def imageGenerator():\n",
    "    input_folder = r'C:\\Users\\marto\\Desktop\\Szakdolgozat\\pogram\\brainTumor\\data'\n",
    "    output_folder = r'C:\\Users\\marto\\Desktop\\Szakdolgozat\\pogram\\brainTumor\\converted_data'\n",
    "    datas = []\n",
    "    img_size = (256,256)\n",
    "    for file_name in os.listdir(input_folder):\n",
    "        if file_name.endswith('.mat'):\n",
    "            file_path = os.path.join(input_folder,file_name)\n",
    "            \n",
    "            with h5py.File(file_path, 'r') as f:\n",
    "                image = np.array(f['cjdata/image']).T\n",
    "                label = int(np.array(f['cjdata/label'])[0,0])\n",
    "                tumor_border = np.array(f['cjdata/tumorBorder']).T\n",
    "                tumor_mask = np.array(f['cjdata/tumorMask']).T\n",
    "    \n",
    "            image = image.astype(np.float64)\n",
    "            im_norm = 255*(image-image.min())/(image.max()-image.min())\n",
    "            im_uint8 = im_norm.astype(np.uint8)\n",
    "            im_pil = Image.fromarray(im_uint8)\n",
    "            im_pil = im_pil.resize(img_size)\n",
    "            \n",
    "            datas.append((np.array(im_pil,dtype=np.float32),label))\n",
    "\n",
    "    return datas"
   ]
  },
  {
   "cell_type": "code",
   "execution_count": 3,
   "id": "b724a829-b49e-4a77-9f98-0ac6754947e7",
   "metadata": {},
   "outputs": [],
   "source": [
    "try:\n",
    "    datas = imageGenerator()\n",
    "except ValueError:\n",
    "    print('Hibás érték')"
   ]
  },
  {
   "cell_type": "code",
   "execution_count": 4,
   "id": "eb19459a-c4dc-47c5-b45c-3a8674c578f6",
   "metadata": {},
   "outputs": [],
   "source": [
    "labels = ['meningioma', 'glioma', 'pituitary tumor']"
   ]
  },
  {
   "cell_type": "code",
   "execution_count": 5,
   "id": "d64a8459-178e-4c5c-ae58-489bfaaf832c",
   "metadata": {},
   "outputs": [],
   "source": [
    "X = [item[0] for item in datas]\n",
    "y = [item[1] for item in datas] "
   ]
  },
  {
   "cell_type": "code",
   "execution_count": 6,
   "id": "a2b2ab27-5995-4726-8dbc-7fa46e893e6c",
   "metadata": {},
   "outputs": [],
   "source": [
    "from sklearn.model_selection import train_test_split\n",
    "X_train, X_test, y_train, y_test = train_test_split(X, y, test_size=0.33, random_state=42)"
   ]
  },
  {
   "cell_type": "code",
   "execution_count": 7,
   "id": "ad1f0a44-9b9e-4ac2-9a9c-fbfc6a165d26",
   "metadata": {},
   "outputs": [],
   "source": [
    "from tensorflow.keras import datasets, layers, models\n",
    "import matplotlib.pyplot as plt"
   ]
  },
  {
   "cell_type": "code",
   "execution_count": 8,
   "id": "d4facb94-8d2c-4d60-818e-1823c66301b4",
   "metadata": {},
   "outputs": [
    {
     "data": {
      "text/plain": [
       "\"\\nmodel = models.Sequential()\\nmodel.add(layers.Input(shape=(256, 256, 1)))\\nmodel.add(layers.Conv2D(32, (3, 3), activation='relu'))\\nmodel.add(layers.MaxPooling2D((2, 2)))\\nmodel.add(layers.Conv2D(64, (3, 3), activation='relu'))\\nmodel.add(layers.MaxPooling2D((2, 2)))\\nmodel.add(layers.Conv2D(64, (3, 3), activation='relu'))\\nmodel.add(layers.Flatten())\\n#model.add(layers.Dense(64, activation='relu'))\\nmodel.add(layers.Dense(len(labels),activation='softmax')) # Többosztályos osztályozás (pl. glioma, meningeoma, stb.)\\n\\n\\nPontosság: 0.8725296442687747\\n\\nRészletes riport:\\n               precision    recall  f1-score   support\\n\\n         1.0       0.84      0.66      0.74       251\\n         2.0       0.86      0.94      0.90       446\\n         3.0       0.92      0.94      0.93       315\\n\\n    accuracy                           0.87      1012\\n   macro avg       0.87      0.85      0.86      1012\\nweighted avg       0.87      0.87      0.87      1012\\n-----------------------------------------------------------\\nPontosság: 0.9130434782608695\\n\\nRészletes riport:\\n               precision    recall  f1-score   support\\n\\n         1.0       0.81      0.88      0.84       251\\n         2.0       0.94      0.88      0.91       446\\n         3.0       0.97      0.98      0.97       315\\n\\n    accuracy                           0.91      1012\\n   macro avg       0.91      0.92      0.91      1012\\nweighted avg       0.92      0.91      0.91      1012\\n\""
      ]
     },
     "execution_count": 8,
     "metadata": {},
     "output_type": "execute_result"
    }
   ],
   "source": [
    "'''\n",
    "model = models.Sequential()\n",
    "model.add(layers.Input(shape=(256, 256, 1)))\n",
    "model.add(layers.Conv2D(32, (3, 3), activation='relu'))\n",
    "model.add(layers.MaxPooling2D((2, 2)))\n",
    "model.add(layers.Conv2D(64, (3, 3), activation='relu'))\n",
    "model.add(layers.MaxPooling2D((2, 2)))\n",
    "model.add(layers.Conv2D(64, (3, 3), activation='relu'))\n",
    "model.add(layers.Flatten())\n",
    "#model.add(layers.Dense(64, activation='relu'))\n",
    "model.add(layers.Dense(len(labels),activation='softmax')) # Többosztályos osztályozás (pl. glioma, meningeoma, stb.)\n",
    "\n",
    "\n",
    "Pontosság: 0.8725296442687747\n",
    "\n",
    "Részletes riport:\n",
    "               precision    recall  f1-score   support\n",
    "\n",
    "         1.0       0.84      0.66      0.74       251\n",
    "         2.0       0.86      0.94      0.90       446\n",
    "         3.0       0.92      0.94      0.93       315\n",
    "\n",
    "    accuracy                           0.87      1012\n",
    "   macro avg       0.87      0.85      0.86      1012\n",
    "weighted avg       0.87      0.87      0.87      1012\n",
    "-----------------------------------------------------------\n",
    "Pontosság: 0.9130434782608695\n",
    "\n",
    "Részletes riport:\n",
    "               precision    recall  f1-score   support\n",
    "\n",
    "         1.0       0.81      0.88      0.84       251\n",
    "         2.0       0.94      0.88      0.91       446\n",
    "         3.0       0.97      0.98      0.97       315\n",
    "\n",
    "    accuracy                           0.91      1012\n",
    "   macro avg       0.91      0.92      0.91      1012\n",
    "weighted avg       0.92      0.91      0.91      1012\n",
    "'''"
   ]
  },
  {
   "cell_type": "code",
   "execution_count": 22,
   "id": "7ccda800-81cf-4d1a-a8d9-1689d509316e",
   "metadata": {},
   "outputs": [],
   "source": [
    "model = models.Sequential()\n",
    "model.add(layers.Input(shape=(256, 256, 1)))\n",
    "model.add(layers.Conv2D(16, (3, 3), activation='relu'))\n",
    "model.add(layers.MaxPooling2D((2, 2)))\n",
    "model.add(layers.Conv2D(32, (3, 3), activation='relu'))\n",
    "model.add(layers.MaxPooling2D((2, 2)))\n",
    "model.add(layers.Conv2D(32, (3, 3), activation='relu'))\n",
    "model.add(layers.Flatten())\n",
    "model.add(layers.Dense(len(labels)+1,activation='softmax')) # Többosztályos osztályozás (pl. glioma, meningeoma, stb.)\n"
   ]
  },
  {
   "cell_type": "code",
   "execution_count": 24,
   "id": "a23204fd-b0f1-47df-8f74-4d5f1902abb5",
   "metadata": {},
   "outputs": [
    {
     "data": {
      "text/html": [
       "<pre style=\"white-space:pre;overflow-x:auto;line-height:normal;font-family:Menlo,'DejaVu Sans Mono',consolas,'Courier New',monospace\"><span style=\"font-weight: bold\">Model: \"sequential_1\"</span>\n",
       "</pre>\n"
      ],
      "text/plain": [
       "\u001b[1mModel: \"sequential_1\"\u001b[0m\n"
      ]
     },
     "metadata": {},
     "output_type": "display_data"
    },
    {
     "data": {
      "text/html": [
       "<pre style=\"white-space:pre;overflow-x:auto;line-height:normal;font-family:Menlo,'DejaVu Sans Mono',consolas,'Courier New',monospace\">┏━━━━━━━━━━━━━━━━━━━━━━━━━━━━━━━━━━━━━━┳━━━━━━━━━━━━━━━━━━━━━━━━━━━━━┳━━━━━━━━━━━━━━━━━┓\n",
       "┃<span style=\"font-weight: bold\"> Layer (type)                         </span>┃<span style=\"font-weight: bold\"> Output Shape                </span>┃<span style=\"font-weight: bold\">         Param # </span>┃\n",
       "┡━━━━━━━━━━━━━━━━━━━━━━━━━━━━━━━━━━━━━━╇━━━━━━━━━━━━━━━━━━━━━━━━━━━━━╇━━━━━━━━━━━━━━━━━┩\n",
       "│ conv2d_3 (<span style=\"color: #0087ff; text-decoration-color: #0087ff\">Conv2D</span>)                    │ (<span style=\"color: #00d7ff; text-decoration-color: #00d7ff\">None</span>, <span style=\"color: #00af00; text-decoration-color: #00af00\">254</span>, <span style=\"color: #00af00; text-decoration-color: #00af00\">254</span>, <span style=\"color: #00af00; text-decoration-color: #00af00\">16</span>)        │             <span style=\"color: #00af00; text-decoration-color: #00af00\">160</span> │\n",
       "├──────────────────────────────────────┼─────────────────────────────┼─────────────────┤\n",
       "│ max_pooling2d_2 (<span style=\"color: #0087ff; text-decoration-color: #0087ff\">MaxPooling2D</span>)       │ (<span style=\"color: #00d7ff; text-decoration-color: #00d7ff\">None</span>, <span style=\"color: #00af00; text-decoration-color: #00af00\">127</span>, <span style=\"color: #00af00; text-decoration-color: #00af00\">127</span>, <span style=\"color: #00af00; text-decoration-color: #00af00\">16</span>)        │               <span style=\"color: #00af00; text-decoration-color: #00af00\">0</span> │\n",
       "├──────────────────────────────────────┼─────────────────────────────┼─────────────────┤\n",
       "│ conv2d_4 (<span style=\"color: #0087ff; text-decoration-color: #0087ff\">Conv2D</span>)                    │ (<span style=\"color: #00d7ff; text-decoration-color: #00d7ff\">None</span>, <span style=\"color: #00af00; text-decoration-color: #00af00\">125</span>, <span style=\"color: #00af00; text-decoration-color: #00af00\">125</span>, <span style=\"color: #00af00; text-decoration-color: #00af00\">32</span>)        │           <span style=\"color: #00af00; text-decoration-color: #00af00\">4,640</span> │\n",
       "├──────────────────────────────────────┼─────────────────────────────┼─────────────────┤\n",
       "│ max_pooling2d_3 (<span style=\"color: #0087ff; text-decoration-color: #0087ff\">MaxPooling2D</span>)       │ (<span style=\"color: #00d7ff; text-decoration-color: #00d7ff\">None</span>, <span style=\"color: #00af00; text-decoration-color: #00af00\">62</span>, <span style=\"color: #00af00; text-decoration-color: #00af00\">62</span>, <span style=\"color: #00af00; text-decoration-color: #00af00\">32</span>)          │               <span style=\"color: #00af00; text-decoration-color: #00af00\">0</span> │\n",
       "├──────────────────────────────────────┼─────────────────────────────┼─────────────────┤\n",
       "│ conv2d_5 (<span style=\"color: #0087ff; text-decoration-color: #0087ff\">Conv2D</span>)                    │ (<span style=\"color: #00d7ff; text-decoration-color: #00d7ff\">None</span>, <span style=\"color: #00af00; text-decoration-color: #00af00\">60</span>, <span style=\"color: #00af00; text-decoration-color: #00af00\">60</span>, <span style=\"color: #00af00; text-decoration-color: #00af00\">32</span>)          │           <span style=\"color: #00af00; text-decoration-color: #00af00\">9,248</span> │\n",
       "├──────────────────────────────────────┼─────────────────────────────┼─────────────────┤\n",
       "│ flatten_1 (<span style=\"color: #0087ff; text-decoration-color: #0087ff\">Flatten</span>)                  │ (<span style=\"color: #00d7ff; text-decoration-color: #00d7ff\">None</span>, <span style=\"color: #00af00; text-decoration-color: #00af00\">115200</span>)              │               <span style=\"color: #00af00; text-decoration-color: #00af00\">0</span> │\n",
       "├──────────────────────────────────────┼─────────────────────────────┼─────────────────┤\n",
       "│ dense_1 (<span style=\"color: #0087ff; text-decoration-color: #0087ff\">Dense</span>)                      │ (<span style=\"color: #00d7ff; text-decoration-color: #00d7ff\">None</span>, <span style=\"color: #00af00; text-decoration-color: #00af00\">4</span>)                   │         <span style=\"color: #00af00; text-decoration-color: #00af00\">460,804</span> │\n",
       "└──────────────────────────────────────┴─────────────────────────────┴─────────────────┘\n",
       "</pre>\n"
      ],
      "text/plain": [
       "┏━━━━━━━━━━━━━━━━━━━━━━━━━━━━━━━━━━━━━━┳━━━━━━━━━━━━━━━━━━━━━━━━━━━━━┳━━━━━━━━━━━━━━━━━┓\n",
       "┃\u001b[1m \u001b[0m\u001b[1mLayer (type)                        \u001b[0m\u001b[1m \u001b[0m┃\u001b[1m \u001b[0m\u001b[1mOutput Shape               \u001b[0m\u001b[1m \u001b[0m┃\u001b[1m \u001b[0m\u001b[1m        Param #\u001b[0m\u001b[1m \u001b[0m┃\n",
       "┡━━━━━━━━━━━━━━━━━━━━━━━━━━━━━━━━━━━━━━╇━━━━━━━━━━━━━━━━━━━━━━━━━━━━━╇━━━━━━━━━━━━━━━━━┩\n",
       "│ conv2d_3 (\u001b[38;5;33mConv2D\u001b[0m)                    │ (\u001b[38;5;45mNone\u001b[0m, \u001b[38;5;34m254\u001b[0m, \u001b[38;5;34m254\u001b[0m, \u001b[38;5;34m16\u001b[0m)        │             \u001b[38;5;34m160\u001b[0m │\n",
       "├──────────────────────────────────────┼─────────────────────────────┼─────────────────┤\n",
       "│ max_pooling2d_2 (\u001b[38;5;33mMaxPooling2D\u001b[0m)       │ (\u001b[38;5;45mNone\u001b[0m, \u001b[38;5;34m127\u001b[0m, \u001b[38;5;34m127\u001b[0m, \u001b[38;5;34m16\u001b[0m)        │               \u001b[38;5;34m0\u001b[0m │\n",
       "├──────────────────────────────────────┼─────────────────────────────┼─────────────────┤\n",
       "│ conv2d_4 (\u001b[38;5;33mConv2D\u001b[0m)                    │ (\u001b[38;5;45mNone\u001b[0m, \u001b[38;5;34m125\u001b[0m, \u001b[38;5;34m125\u001b[0m, \u001b[38;5;34m32\u001b[0m)        │           \u001b[38;5;34m4,640\u001b[0m │\n",
       "├──────────────────────────────────────┼─────────────────────────────┼─────────────────┤\n",
       "│ max_pooling2d_3 (\u001b[38;5;33mMaxPooling2D\u001b[0m)       │ (\u001b[38;5;45mNone\u001b[0m, \u001b[38;5;34m62\u001b[0m, \u001b[38;5;34m62\u001b[0m, \u001b[38;5;34m32\u001b[0m)          │               \u001b[38;5;34m0\u001b[0m │\n",
       "├──────────────────────────────────────┼─────────────────────────────┼─────────────────┤\n",
       "│ conv2d_5 (\u001b[38;5;33mConv2D\u001b[0m)                    │ (\u001b[38;5;45mNone\u001b[0m, \u001b[38;5;34m60\u001b[0m, \u001b[38;5;34m60\u001b[0m, \u001b[38;5;34m32\u001b[0m)          │           \u001b[38;5;34m9,248\u001b[0m │\n",
       "├──────────────────────────────────────┼─────────────────────────────┼─────────────────┤\n",
       "│ flatten_1 (\u001b[38;5;33mFlatten\u001b[0m)                  │ (\u001b[38;5;45mNone\u001b[0m, \u001b[38;5;34m115200\u001b[0m)              │               \u001b[38;5;34m0\u001b[0m │\n",
       "├──────────────────────────────────────┼─────────────────────────────┼─────────────────┤\n",
       "│ dense_1 (\u001b[38;5;33mDense\u001b[0m)                      │ (\u001b[38;5;45mNone\u001b[0m, \u001b[38;5;34m4\u001b[0m)                   │         \u001b[38;5;34m460,804\u001b[0m │\n",
       "└──────────────────────────────────────┴─────────────────────────────┴─────────────────┘\n"
      ]
     },
     "metadata": {},
     "output_type": "display_data"
    },
    {
     "data": {
      "text/html": [
       "<pre style=\"white-space:pre;overflow-x:auto;line-height:normal;font-family:Menlo,'DejaVu Sans Mono',consolas,'Courier New',monospace\"><span style=\"font-weight: bold\"> Total params: </span><span style=\"color: #00af00; text-decoration-color: #00af00\">474,852</span> (1.81 MB)\n",
       "</pre>\n"
      ],
      "text/plain": [
       "\u001b[1m Total params: \u001b[0m\u001b[38;5;34m474,852\u001b[0m (1.81 MB)\n"
      ]
     },
     "metadata": {},
     "output_type": "display_data"
    },
    {
     "data": {
      "text/html": [
       "<pre style=\"white-space:pre;overflow-x:auto;line-height:normal;font-family:Menlo,'DejaVu Sans Mono',consolas,'Courier New',monospace\"><span style=\"font-weight: bold\"> Trainable params: </span><span style=\"color: #00af00; text-decoration-color: #00af00\">474,852</span> (1.81 MB)\n",
       "</pre>\n"
      ],
      "text/plain": [
       "\u001b[1m Trainable params: \u001b[0m\u001b[38;5;34m474,852\u001b[0m (1.81 MB)\n"
      ]
     },
     "metadata": {},
     "output_type": "display_data"
    },
    {
     "data": {
      "text/html": [
       "<pre style=\"white-space:pre;overflow-x:auto;line-height:normal;font-family:Menlo,'DejaVu Sans Mono',consolas,'Courier New',monospace\"><span style=\"font-weight: bold\"> Non-trainable params: </span><span style=\"color: #00af00; text-decoration-color: #00af00\">0</span> (0.00 B)\n",
       "</pre>\n"
      ],
      "text/plain": [
       "\u001b[1m Non-trainable params: \u001b[0m\u001b[38;5;34m0\u001b[0m (0.00 B)\n"
      ]
     },
     "metadata": {},
     "output_type": "display_data"
    }
   ],
   "source": [
    "model.summary()"
   ]
  },
  {
   "cell_type": "code",
   "execution_count": 26,
   "id": "868ae879-7b06-4f8e-b7c4-5f79785fcc37",
   "metadata": {},
   "outputs": [],
   "source": [
    "X_train = np.array(X_train,dtype=np.float32)\n",
    "X_test = np.array(X_test,dtype=np.float32)\n",
    "y_train = np.array(y_train,dtype=np.float32)\n",
    "y_test = np.array(y_test,dtype=np.float32)"
   ]
  },
  {
   "cell_type": "code",
   "execution_count": 28,
   "id": "717e4ff8-cb40-4142-bb10-cbaa20b0802f",
   "metadata": {},
   "outputs": [
    {
     "name": "stdout",
     "output_type": "stream",
     "text": [
      "Epoch 1/10\n",
      "\u001b[1m65/65\u001b[0m \u001b[32m━━━━━━━━━━━━━━━━━━━━\u001b[0m\u001b[37m\u001b[0m \u001b[1m10s\u001b[0m 129ms/step - accuracy: 0.6217 - loss: 16.6748 - val_accuracy: 0.7717 - val_loss: 0.5089\n",
      "Epoch 2/10\n",
      "\u001b[1m65/65\u001b[0m \u001b[32m━━━━━━━━━━━━━━━━━━━━\u001b[0m\u001b[37m\u001b[0m \u001b[1m8s\u001b[0m 119ms/step - accuracy: 0.8937 - loss: 0.2514 - val_accuracy: 0.8933 - val_loss: 0.2527\n",
      "Epoch 3/10\n",
      "\u001b[1m65/65\u001b[0m \u001b[32m━━━━━━━━━━━━━━━━━━━━\u001b[0m\u001b[37m\u001b[0m \u001b[1m8s\u001b[0m 124ms/step - accuracy: 0.9783 - loss: 0.0679 - val_accuracy: 0.8626 - val_loss: 0.3537\n",
      "Epoch 4/10\n",
      "\u001b[1m65/65\u001b[0m \u001b[32m━━━━━━━━━━━━━━━━━━━━\u001b[0m\u001b[37m\u001b[0m \u001b[1m8s\u001b[0m 118ms/step - accuracy: 0.9850 - loss: 0.0495 - val_accuracy: 0.9180 - val_loss: 0.2523\n",
      "Epoch 5/10\n",
      "\u001b[1m65/65\u001b[0m \u001b[32m━━━━━━━━━━━━━━━━━━━━\u001b[0m\u001b[37m\u001b[0m \u001b[1m8s\u001b[0m 116ms/step - accuracy: 0.9963 - loss: 0.0131 - val_accuracy: 0.9200 - val_loss: 0.2748\n",
      "Epoch 6/10\n",
      "\u001b[1m65/65\u001b[0m \u001b[32m━━━━━━━━━━━━━━━━━━━━\u001b[0m\u001b[37m\u001b[0m \u001b[1m8s\u001b[0m 116ms/step - accuracy: 1.0000 - loss: 0.0039 - val_accuracy: 0.9180 - val_loss: 0.2955\n",
      "Epoch 7/10\n",
      "\u001b[1m65/65\u001b[0m \u001b[32m━━━━━━━━━━━━━━━━━━━━\u001b[0m\u001b[37m\u001b[0m \u001b[1m8s\u001b[0m 120ms/step - accuracy: 1.0000 - loss: 7.1111e-04 - val_accuracy: 0.9150 - val_loss: 0.3180\n",
      "Epoch 8/10\n",
      "\u001b[1m65/65\u001b[0m \u001b[32m━━━━━━━━━━━━━━━━━━━━\u001b[0m\u001b[37m\u001b[0m \u001b[1m8s\u001b[0m 119ms/step - accuracy: 1.0000 - loss: 3.7422e-04 - val_accuracy: 0.9140 - val_loss: 0.3371\n",
      "Epoch 9/10\n",
      "\u001b[1m65/65\u001b[0m \u001b[32m━━━━━━━━━━━━━━━━━━━━\u001b[0m\u001b[37m\u001b[0m \u001b[1m8s\u001b[0m 118ms/step - accuracy: 1.0000 - loss: 3.2703e-04 - val_accuracy: 0.9121 - val_loss: 0.3459\n",
      "Epoch 10/10\n",
      "\u001b[1m65/65\u001b[0m \u001b[32m━━━━━━━━━━━━━━━━━━━━\u001b[0m\u001b[37m\u001b[0m \u001b[1m8s\u001b[0m 117ms/step - accuracy: 1.0000 - loss: 2.1131e-04 - val_accuracy: 0.9140 - val_loss: 0.3513\n"
     ]
    }
   ],
   "source": [
    "model.compile(optimizer='adam', loss=tf.keras.losses.SparseCategoricalCrossentropy(), metrics=['accuracy'])\n",
    "history = model.fit(X_train, y_train, epochs=10,\n",
    "                    validation_data=(X_test,y_test))"
   ]
  },
  {
   "cell_type": "code",
   "execution_count": 29,
   "id": "84438502-19f0-40be-a4de-b773a679ffbc",
   "metadata": {},
   "outputs": [
    {
     "name": "stdout",
     "output_type": "stream",
     "text": [
      "\u001b[1m32/32\u001b[0m \u001b[32m━━━━━━━━━━━━━━━━━━━━\u001b[0m\u001b[37m\u001b[0m \u001b[1m2s\u001b[0m 41ms/step\n",
      "Pontosság: 0.9140316205533597\n",
      "\n",
      "Részletes riport:\n",
      "               precision    recall  f1-score   support\n",
      "\n",
      "         1.0       0.88      0.78      0.83       251\n",
      "         2.0       0.89      0.95      0.92       446\n",
      "         3.0       0.97      0.97      0.97       315\n",
      "\n",
      "    accuracy                           0.91      1012\n",
      "   macro avg       0.91      0.90      0.91      1012\n",
      "weighted avg       0.91      0.91      0.91      1012\n",
      "\n"
     ]
    }
   ],
   "source": [
    "predictions = model.predict(X_test)\n",
    "predicted_classes = np.argmax(predictions, axis=1)\n",
    "\n",
    "# Pontosság kiírása\n",
    "from sklearn.metrics import accuracy_score, classification_report\n",
    "\n",
    "print(\"Pontosság:\", accuracy_score(y_test, predicted_classes))\n",
    "print(\"\\nRészletes riport:\\n\", classification_report(y_test, predicted_classes))"
   ]
  },
  {
   "cell_type": "code",
   "execution_count": 30,
   "id": "41850e33-d45d-41f4-bf18-670590b33125",
   "metadata": {},
   "outputs": [
    {
     "data": {
      "text/plain": [
       "['web/backend/models/BrainTumorClassificationHistory.pkl']"
      ]
     },
     "execution_count": 30,
     "metadata": {},
     "output_type": "execute_result"
    }
   ],
   "source": [
    "import joblib as jl\n",
    "jl.dump(model,'web/backend/models/BrainTumorClassificationModel.pkl')\n",
    "jl.dump(history,'web/backend/models/BrainTumorClassificationHistory.pkl')"
   ]
  },
  {
   "cell_type": "code",
   "execution_count": 31,
   "id": "be95accb-7dec-4b16-9f44-3eedbc8c1ea2",
   "metadata": {},
   "outputs": [
    {
     "data": {
      "text/plain": [
       "0.9140316205533597"
      ]
     },
     "execution_count": 31,
     "metadata": {},
     "output_type": "execute_result"
    }
   ],
   "source": [
    "accuracy_score(y_test, predicted_classes)"
   ]
  },
  {
   "cell_type": "code",
   "execution_count": 32,
   "id": "4a44484c-43a5-40f3-ab4c-793bd29197fb",
   "metadata": {},
   "outputs": [
    {
     "data": {
      "text/plain": [
       "0.9140316205533597"
      ]
     },
     "execution_count": 32,
     "metadata": {},
     "output_type": "execute_result"
    }
   ],
   "source": [
    "# 1. Pontosság (Accuracy)\n",
    "accuracy_score(y_test, predicted_classes)"
   ]
  },
  {
   "cell_type": "code",
   "execution_count": 33,
   "id": "35e16168-389e-4e62-b8b5-ff8e1bb8d7ab",
   "metadata": {},
   "outputs": [
    {
     "name": "stdout",
     "output_type": "stream",
     "text": [
      "              precision    recall  f1-score   support\n",
      "\n",
      "         1.0       0.88      0.78      0.83       251\n",
      "         2.0       0.89      0.95      0.92       446\n",
      "         3.0       0.97      0.97      0.97       315\n",
      "\n",
      "    accuracy                           0.91      1012\n",
      "   macro avg       0.91      0.90      0.91      1012\n",
      "weighted avg       0.91      0.91      0.91      1012\n",
      "\n"
     ]
    }
   ],
   "source": [
    "# 2. Precision, Recall, F1-score\n",
    "print(classification_report(y_test, predicted_classes))"
   ]
  },
  {
   "cell_type": "code",
   "execution_count": 34,
   "id": "7cbb22e8-5b99-4b42-b424-194692e43f87",
   "metadata": {},
   "outputs": [],
   "source": [
    "# 3. Confusion Matrix\n",
    "\n",
    "#confusion_matrix = metrics.confusion_matrix(actual, predicted)\n",
    "\n",
    "#cm_display = metrics.ConfusionMatrixDisplay(confusion_matrix = confusion_matrix, display_labels = [0, 1])\n"
   ]
  },
  {
   "cell_type": "code",
   "execution_count": 35,
   "id": "7b015abb-3bc8-439b-98ad-d83fadecbd8c",
   "metadata": {},
   "outputs": [],
   "source": [
    "# 4. ROC-AUC (Receiver Operating Characteristic - Area Under Curve) ------ nem releváns"
   ]
  },
  {
   "cell_type": "code",
   "execution_count": 36,
   "id": "166d7cc6-3718-41f7-bbf3-91361626e0f5",
   "metadata": {},
   "outputs": [
    {
     "data": {
      "image/png": "[encoded data removed]",
      "text/plain": [
       "<Figure size 1000x500 with 1 Axes>"
      ]
     },
     "metadata": {},
     "output_type": "display_data"
    }
   ],
   "source": [
    "# 5. Loss (veszteség) érték\n",
    "plt.figure(figsize=(10, 5))\n",
    "plt.plot(history.history['loss'], label='train loss')\n",
    "plt.plot(history.history['val_loss'], label='validation loss')\n",
    "plt.legend()\n",
    "plt.show()"
   ]
  },
  {
   "cell_type": "code",
   "execution_count": 37,
   "id": "6c167f84-780e-4cd3-bce3-d9ad8dc6919d",
   "metadata": {},
   "outputs": [
    {
     "data": {
      "text/plain": [
       "[5.642703056335449,\n",
       " 0.2057124525308609,\n",
       " 0.07508990168571472,\n",
       " 0.03402566537261009,\n",
       " 0.011171416379511356,\n",
       " 0.0031440588645637035,\n",
       " 0.0006809482001699507,\n",
       " 0.00038738150033168495,\n",
       " 0.0002831626043189317,\n",
       " 0.0002165990008506924]"
      ]
     },
     "execution_count": 37,
     "metadata": {},
     "output_type": "execute_result"
    }
   ],
   "source": [
    "history.history['loss']"
   ]
  },
  {
   "cell_type": "code",
   "execution_count": 38,
   "id": "bf8d48e4-e335-4d11-9a4c-5d56bec0a9cd",
   "metadata": {},
   "outputs": [
    {
     "data": {
      "text/plain": [
       "[0.5088976621627808,\n",
       " 0.25269582867622375,\n",
       " 0.35365909337997437,\n",
       " 0.2522735595703125,\n",
       " 0.27484583854675293,\n",
       " 0.2954610288143158,\n",
       " 0.31797224283218384,\n",
       " 0.33711478114128113,\n",
       " 0.34592413902282715,\n",
       " 0.3513498902320862]"
      ]
     },
     "execution_count": 38,
     "metadata": {},
     "output_type": "execute_result"
    }
   ],
   "source": [
    "history.history['val_loss']"
   ]
  },
  {
   "cell_type": "code",
   "execution_count": 39,
   "id": "31b575ab-b3b9-4cfc-8cbc-b3acc858faff",
   "metadata": {},
   "outputs": [],
   "source": [
    "# 6. Tanulási görbe"
   ]
  },
  {
   "cell_type": "code",
   "execution_count": 40,
   "id": "03de2490-a63e-4d07-98ba-3e7a58f9b353",
   "metadata": {},
   "outputs": [],
   "source": [
    "# 7. Modelméret ------ nem releváns"
   ]
  },
  {
   "cell_type": "code",
   "execution_count": 41,
   "id": "ecc64f60-5fab-40ce-a185-11818b4d83c8",
   "metadata": {},
   "outputs": [],
   "source": [
    "# 8. Inference sebesség / Latencia ------ nem releváns"
   ]
  },
  {
   "cell_type": "code",
   "execution_count": 42,
   "id": "db5b5f22-16c6-4a35-a27b-021e9befaf49",
   "metadata": {},
   "outputs": [],
   "source": [
    "# 9. Train Time (Tanítási idő)"
   ]
  },
  {
   "cell_type": "code",
   "execution_count": 43,
   "id": "adfb4c79-bd34-4d03-a882-feef39c1965b",
   "metadata": {},
   "outputs": [],
   "source": [
    "# 10. Generalizációs képesség ------- nem tudom "
   ]
  },
  {
   "cell_type": "code",
   "execution_count": 44,
   "id": "5b703efa-d6d0-410f-8990-1309775b7d09",
   "metadata": {},
   "outputs": [
    {
     "name": "stdout",
     "output_type": "stream",
     "text": [
      "1012\n"
     ]
    }
   ],
   "source": [
    "print(len(y_test))"
   ]
  },
  {
   "cell_type": "code",
   "execution_count": 45,
   "id": "a293859f-c6a5-4e58-9391-18945f74f0fc",
   "metadata": {},
   "outputs": [],
   "source": [
    "with open('web/backend/brainTumor_y_test.npy', 'w') as filehandle:  \n",
    "    filehandle.writelines(\"%s\\n\" % x for x in y_test)"
   ]
  },
  {
   "cell_type": "code",
   "execution_count": 46,
   "id": "855ea051-08ba-4522-b113-49cd445542ec",
   "metadata": {},
   "outputs": [],
   "source": [
    "y_test = []\n",
    "with open('web/backend/brainTumor_y_test.txt', 'r') as filehandle: \n",
    "    content = filehandle.readlines()\n",
    "    for data in content:\n",
    "        y_test.append(data[:-1])"
   ]
  },
  {
   "cell_type": "code",
   "execution_count": 47,
   "id": "e6e92598-5f24-4c75-b57b-7b8eb42fa9b0",
   "metadata": {},
   "outputs": [],
   "source": [
    "#y_test"
   ]
  },
  {
   "cell_type": "code",
   "execution_count": 48,
   "id": "de0a6fcb-5546-498d-8c45-21525e5f4018",
   "metadata": {},
   "outputs": [],
   "source": [
    "with open('web/backend/brainTumor_X_test.npy', 'w') as filehandle:  \n",
    "    filehandle.writelines(\"%s\\n\" % x for x in X_test)"
   ]
  },
  {
   "cell_type": "code",
   "execution_count": 49,
   "id": "2ad5c12b-6285-4e71-ad1d-2c350a4a4bfe",
   "metadata": {},
   "outputs": [],
   "source": [
    "np.save('web/backend/brainTumor_y_test.npy',y_test)\n",
    "np.save('web/backend/brainTumor_X_test.npy',X_test)"
   ]
  },
  {
   "cell_type": "code",
   "execution_count": 50,
   "id": "aee2e592-a0b5-4194-90b6-4fc2ad3b89b3",
   "metadata": {},
   "outputs": [
    {
     "data": {
      "text/plain": [
       "0.5973414642474382"
      ]
     },
     "execution_count": 50,
     "metadata": {},
     "output_type": "execute_result"
    }
   ],
   "source": [
    "np.array(history.history['loss']).sum()/len(np.array(history.history['loss']))"
   ]
  },
  {
   "cell_type": "code",
   "execution_count": null,
   "id": "3d7eba80-98cd-4b4a-afe2-1461056a2f64",
   "metadata": {},
   "outputs": [],
   "source": []
  },
  {
   "cell_type": "code",
   "execution_count": null,
   "id": "ddde11f1-c20c-4da1-851b-d13ca67d20c2",
   "metadata": {},
   "outputs": [],
   "source": []
  },
  {
   "cell_type": "code",
   "execution_count": null,
   "id": "6510f7aa-c65d-4a0d-8f01-4a4290eeb20d",
   "metadata": {},
   "outputs": [],
   "source": []
  },
  {
   "cell_type": "code",
   "execution_count": null,
   "id": "625a2a87-6c35-42cd-bd28-b0fd25e402cb",
   "metadata": {},
   "outputs": [],
   "source": []
  },
  {
   "cell_type": "code",
   "execution_count": null,
   "id": "062b55df-eec3-486b-a12e-1c0775e99e89",
   "metadata": {},
   "outputs": [],
   "source": []
  },
  {
   "cell_type": "code",
   "execution_count": null,
   "id": "dc9b9906-b56b-47d3-93ba-774da13c869b",
   "metadata": {},
   "outputs": [],
   "source": []
  },
  {
   "cell_type": "code",
   "execution_count": null,
   "id": "f639bca7-a7da-4423-87dd-8044e85866ab",
   "metadata": {},
   "outputs": [],
   "source": []
  },
  {
   "cell_type": "code",
   "execution_count": null,
   "id": "eefc9086-3ff1-403e-b0d5-80e801025c6e",
   "metadata": {},
   "outputs": [],
   "source": []
  }
 ],
 "metadata": {
  "kernelspec": {
   "display_name": "Python [conda env:base] *",
   "language": "python",
   "name": "conda-base-py"
  },
  "language_info": {
   "codemirror_mode": {
    "name": "ipython",
    "version": 3
   },
   "file_extension": ".py",
   "mimetype": "text/x-python",
   "name": "python",
   "nbconvert_exporter": "python",
   "pygments_lexer": "ipython3",
   "version": "3.12.7"
  }
 },
 "nbformat": 4,
 "nbformat_minor": 5
}
