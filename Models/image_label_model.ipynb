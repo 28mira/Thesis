{
 "cells": [
  {
   "cell_type": "code",
   "execution_count": 1,
   "id": "bcfec34f-0706-4435-8d87-575c2bc8f2a2",
   "metadata": {},
   "outputs": [],
   "source": [
    "import pandas as pd\n",
    "import os\n",
    "import cv2\n",
    "import csv\n",
    "import scipy.io\n",
    "import numpy as np\n",
    "import matplotlib.pyplot as plt\n",
    "import pandas as pd\n",
    "from PIL import Image\n",
    "import h5py\n",
    "from torchvision import transforms\n",
    "import tensorflow as tf\n",
    "from tensorflow.keras import models, layers"
   ]
  },
  {
   "cell_type": "code",
   "execution_count": 2,
   "id": "4167ccb8-de52-4059-ba0b-38c41e662cce",
   "metadata": {},
   "outputs": [],
   "source": [
    "def imageGenerator():\n",
    "    input_folder = r'C:\\Users\\marto\\Desktop\\Szakdolgozat\\pogram\\brainTumor\\data'\n",
    "    output_folder = r'C:\\Users\\marto\\Desktop\\Szakdolgozat\\pogram\\brainTumor\\converted_data'\n",
    "    datas = []\n",
    "    img_size = (256,256)\n",
    "    for file_name in sorted(os.listdir(input_folder)):\n",
    "        if file_name.endswith('.mat'):\n",
    "            file_path = os.path.join(input_folder,file_name)\n",
    "            \n",
    "            with h5py.File(file_path, 'r') as f:\n",
    "                image = np.array(f['cjdata/image']).T\n",
    "                label = int(np.array(f['cjdata/label'])[0,0])\n",
    "                tumor_border = np.array(f['cjdata/tumorBorder']).T\n",
    "                tumor_mask = np.array(f['cjdata/tumorMask']).T\n",
    "    \n",
    "            '''image = image.astype(np.float64)\n",
    "            im_norm = 255*(image-image.min())/(image.max()-image.min())\n",
    "            im_uint8 = im_norm.astype(np.uint8)\n",
    "            im_pil = Image.fromarray(im_uint8)\n",
    "            im_pil = im_pil.resize(img_size)'''\n",
    "\n",
    "            image = image.astype(np.float32)\n",
    "            #image = image / (image.max() + 1e-8)\n",
    "            img = Image.fromarray((image*255).astype(np.uint8))\n",
    "            img = img.resize(img_size)\n",
    "            arr = np.array(img,dtype=np.float32)/255.0\n",
    "            arr = np.expand_dims(arr,axis=-1)\n",
    "\n",
    "                        \n",
    "            datas.append((arr,label))\n",
    "    return datas"
   ]
  },
  {
   "cell_type": "code",
   "execution_count": 3,
   "id": "b724a829-b49e-4a77-9f98-0ac6754947e7",
   "metadata": {},
   "outputs": [],
   "source": [
    "try:\n",
    "    datas = imageGenerator()\n",
    "except ValueError:\n",
    "    print('Hibás érték')"
   ]
  },
  {
   "cell_type": "code",
   "execution_count": 4,
   "id": "eb19459a-c4dc-47c5-b45c-3a8674c578f6",
   "metadata": {},
   "outputs": [],
   "source": [
    "labels = ['meningioma', 'glioma', 'pituitary tumor']"
   ]
  },
  {
   "cell_type": "code",
   "execution_count": 5,
   "id": "d64a8459-178e-4c5c-ae58-489bfaaf832c",
   "metadata": {},
   "outputs": [],
   "source": [
    "X = [item[0] for item in datas]\n",
    "y = [item[1]-1 for item in datas] "
   ]
  },
  {
   "cell_type": "code",
   "execution_count": 6,
   "id": "320d1155-fb73-4654-a6a0-007774eea6ae",
   "metadata": {},
   "outputs": [],
   "source": [
    "X = np.array(X)\n",
    "y = np.array(y)"
   ]
  },
  {
   "cell_type": "code",
   "execution_count": 7,
   "id": "a2b2ab27-5995-4726-8dbc-7fa46e893e6c",
   "metadata": {},
   "outputs": [],
   "source": [
    "from sklearn.model_selection import train_test_split\n",
    "X_train, X_test, y_train, y_test = train_test_split(X, y, test_size=0.33, random_state=42)"
   ]
  },
  {
   "cell_type": "code",
   "execution_count": 8,
   "id": "ad1f0a44-9b9e-4ac2-9a9c-fbfc6a165d26",
   "metadata": {},
   "outputs": [],
   "source": [
    "from tensorflow.keras import datasets, layers, models\n",
    "import matplotlib.pyplot as plt"
   ]
  },
  {
   "cell_type": "code",
   "execution_count": 9,
   "id": "d4facb94-8d2c-4d60-818e-1823c66301b4",
   "metadata": {},
   "outputs": [
    {
     "data": {
      "text/plain": [
       "'\\nPontosság: 0.8725296442687747\\n\\nRészletes riport:\\n               precision    recall  f1-score   support\\n\\n         1.0       0.84      0.66      0.74       251\\n         2.0       0.86      0.94      0.90       446\\n         3.0       0.92      0.94      0.93       315\\n\\n    accuracy                           0.87      1012\\n   macro avg       0.87      0.85      0.86      1012\\nweighted avg       0.87      0.87      0.87      1012\\n-----------------------------------------------------------\\nPontosság: 0.9130434782608695\\n\\nRészletes riport:\\n               precision    recall  f1-score   support\\n\\n         1.0       0.81      0.88      0.84       251\\n         2.0       0.94      0.88      0.91       446\\n         3.0       0.97      0.98      0.97       315\\n\\n    accuracy                           0.91      1012\\n   macro avg       0.91      0.92      0.91      1012\\nweighted avg       0.92      0.91      0.91      1012\\n'"
      ]
     },
     "execution_count": 9,
     "metadata": {},
     "output_type": "execute_result"
    }
   ],
   "source": [
    "model = models.Sequential()\n",
    "model.add(layers.Input(shape=(256, 256, 1)))\n",
    "model.add(layers.Conv2D(32, (3, 3), activation='relu'))\n",
    "model.add(layers.MaxPooling2D((2, 2)))\n",
    "model.add(layers.Conv2D(32, (3, 3), activation='relu'))\n",
    "model.add(layers.GlobalAveragePooling2D())\n",
    "model.add(layers.Dense(3,activation='softmax')) # Többosztályos osztályozás (pl. glioma, meningeoma, stb.)\n",
    "\n",
    "\n",
    "'''\n",
    "Pontosság: 0.8725296442687747\n",
    "\n",
    "Részletes riport:\n",
    "               precision    recall  f1-score   support\n",
    "\n",
    "         1.0       0.84      0.66      0.74       251\n",
    "         2.0       0.86      0.94      0.90       446\n",
    "         3.0       0.92      0.94      0.93       315\n",
    "\n",
    "    accuracy                           0.87      1012\n",
    "   macro avg       0.87      0.85      0.86      1012\n",
    "weighted avg       0.87      0.87      0.87      1012\n",
    "-----------------------------------------------------------\n",
    "Pontosság: 0.9130434782608695\n",
    "\n",
    "Részletes riport:\n",
    "               precision    recall  f1-score   support\n",
    "\n",
    "         1.0       0.81      0.88      0.84       251\n",
    "         2.0       0.94      0.88      0.91       446\n",
    "         3.0       0.97      0.98      0.97       315\n",
    "\n",
    "    accuracy                           0.91      1012\n",
    "   macro avg       0.91      0.92      0.91      1012\n",
    "weighted avg       0.92      0.91      0.91      1012\n",
    "'''"
   ]
  },
  {
   "cell_type": "code",
   "execution_count": 10,
   "id": "7ccda800-81cf-4d1a-a8d9-1689d509316e",
   "metadata": {},
   "outputs": [
    {
     "data": {
      "text/plain": [
       "\"model = models.Sequential()\\nmodel.add(layers.Input(shape=(256, 256, 1)))\\nmodel.add(layers.Conv2D(8, (3, 3), activation='relu'))\\nmodel.add(layers.MaxPooling2D((2, 2)))\\nmodel.add(layers.Conv2D(16, (3, 3), activation='relu'))\\nmodel.add(layers.GlobalAveragePooling2D())\\nmodel.add(layers.Dropout(0.5))\\nmodel.add(layers.Dense(3,activation='softmax')) # Többosztályos osztályozás (pl. glioma, meningeoma, stb.)\\n\""
      ]
     },
     "execution_count": 10,
     "metadata": {},
     "output_type": "execute_result"
    }
   ],
   "source": [
    "'''model = models.Sequential()\n",
    "model.add(layers.Input(shape=(256, 256, 1)))\n",
    "model.add(layers.Conv2D(8, (3, 3), activation='relu'))\n",
    "model.add(layers.MaxPooling2D((2, 2)))\n",
    "model.add(layers.Conv2D(16, (3, 3), activation='relu'))\n",
    "model.add(layers.GlobalAveragePooling2D())\n",
    "model.add(layers.Dropout(0.5))\n",
    "model.add(layers.Dense(3,activation='softmax')) # Többosztályos osztályozás (pl. glioma, meningeoma, stb.)\n",
    "'''"
   ]
  },
  {
   "cell_type": "code",
   "execution_count": 11,
   "id": "a23204fd-b0f1-47df-8f74-4d5f1902abb5",
   "metadata": {},
   "outputs": [
    {
     "data": {
      "text/html": [
       "<pre style=\"white-space:pre;overflow-x:auto;line-height:normal;font-family:Menlo,'DejaVu Sans Mono',consolas,'Courier New',monospace\"><span style=\"font-weight: bold\">Model: \"sequential\"</span>\n",
       "</pre>\n"
      ],
      "text/plain": [
       "\u001b[1mModel: \"sequential\"\u001b[0m\n"
      ]
     },
     "metadata": {},
     "output_type": "display_data"
    },
    {
     "data": {
      "text/html": [
       "<pre style=\"white-space:pre;overflow-x:auto;line-height:normal;font-family:Menlo,'DejaVu Sans Mono',consolas,'Courier New',monospace\">┏━━━━━━━━━━━━━━━━━━━━━━━━━━━━━━━━━━━━━━┳━━━━━━━━━━━━━━━━━━━━━━━━━━━━━┳━━━━━━━━━━━━━━━━━┓\n",
       "┃<span style=\"font-weight: bold\"> Layer (type)                         </span>┃<span style=\"font-weight: bold\"> Output Shape                </span>┃<span style=\"font-weight: bold\">         Param # </span>┃\n",
       "┡━━━━━━━━━━━━━━━━━━━━━━━━━━━━━━━━━━━━━━╇━━━━━━━━━━━━━━━━━━━━━━━━━━━━━╇━━━━━━━━━━━━━━━━━┩\n",
       "│ conv2d (<span style=\"color: #0087ff; text-decoration-color: #0087ff\">Conv2D</span>)                      │ (<span style=\"color: #00d7ff; text-decoration-color: #00d7ff\">None</span>, <span style=\"color: #00af00; text-decoration-color: #00af00\">254</span>, <span style=\"color: #00af00; text-decoration-color: #00af00\">254</span>, <span style=\"color: #00af00; text-decoration-color: #00af00\">32</span>)        │             <span style=\"color: #00af00; text-decoration-color: #00af00\">320</span> │\n",
       "├──────────────────────────────────────┼─────────────────────────────┼─────────────────┤\n",
       "│ max_pooling2d (<span style=\"color: #0087ff; text-decoration-color: #0087ff\">MaxPooling2D</span>)         │ (<span style=\"color: #00d7ff; text-decoration-color: #00d7ff\">None</span>, <span style=\"color: #00af00; text-decoration-color: #00af00\">127</span>, <span style=\"color: #00af00; text-decoration-color: #00af00\">127</span>, <span style=\"color: #00af00; text-decoration-color: #00af00\">32</span>)        │               <span style=\"color: #00af00; text-decoration-color: #00af00\">0</span> │\n",
       "├──────────────────────────────────────┼─────────────────────────────┼─────────────────┤\n",
       "│ conv2d_1 (<span style=\"color: #0087ff; text-decoration-color: #0087ff\">Conv2D</span>)                    │ (<span style=\"color: #00d7ff; text-decoration-color: #00d7ff\">None</span>, <span style=\"color: #00af00; text-decoration-color: #00af00\">125</span>, <span style=\"color: #00af00; text-decoration-color: #00af00\">125</span>, <span style=\"color: #00af00; text-decoration-color: #00af00\">32</span>)        │           <span style=\"color: #00af00; text-decoration-color: #00af00\">9,248</span> │\n",
       "├──────────────────────────────────────┼─────────────────────────────┼─────────────────┤\n",
       "│ global_average_pooling2d             │ (<span style=\"color: #00d7ff; text-decoration-color: #00d7ff\">None</span>, <span style=\"color: #00af00; text-decoration-color: #00af00\">32</span>)                  │               <span style=\"color: #00af00; text-decoration-color: #00af00\">0</span> │\n",
       "│ (<span style=\"color: #0087ff; text-decoration-color: #0087ff\">GlobalAveragePooling2D</span>)             │                             │                 │\n",
       "├──────────────────────────────────────┼─────────────────────────────┼─────────────────┤\n",
       "│ dense (<span style=\"color: #0087ff; text-decoration-color: #0087ff\">Dense</span>)                        │ (<span style=\"color: #00d7ff; text-decoration-color: #00d7ff\">None</span>, <span style=\"color: #00af00; text-decoration-color: #00af00\">3</span>)                   │              <span style=\"color: #00af00; text-decoration-color: #00af00\">99</span> │\n",
       "└──────────────────────────────────────┴─────────────────────────────┴─────────────────┘\n",
       "</pre>\n"
      ],
      "text/plain": [
       "┏━━━━━━━━━━━━━━━━━━━━━━━━━━━━━━━━━━━━━━┳━━━━━━━━━━━━━━━━━━━━━━━━━━━━━┳━━━━━━━━━━━━━━━━━┓\n",
       "┃\u001b[1m \u001b[0m\u001b[1mLayer (type)                        \u001b[0m\u001b[1m \u001b[0m┃\u001b[1m \u001b[0m\u001b[1mOutput Shape               \u001b[0m\u001b[1m \u001b[0m┃\u001b[1m \u001b[0m\u001b[1m        Param #\u001b[0m\u001b[1m \u001b[0m┃\n",
       "┡━━━━━━━━━━━━━━━━━━━━━━━━━━━━━━━━━━━━━━╇━━━━━━━━━━━━━━━━━━━━━━━━━━━━━╇━━━━━━━━━━━━━━━━━┩\n",
       "│ conv2d (\u001b[38;5;33mConv2D\u001b[0m)                      │ (\u001b[38;5;45mNone\u001b[0m, \u001b[38;5;34m254\u001b[0m, \u001b[38;5;34m254\u001b[0m, \u001b[38;5;34m32\u001b[0m)        │             \u001b[38;5;34m320\u001b[0m │\n",
       "├──────────────────────────────────────┼─────────────────────────────┼─────────────────┤\n",
       "│ max_pooling2d (\u001b[38;5;33mMaxPooling2D\u001b[0m)         │ (\u001b[38;5;45mNone\u001b[0m, \u001b[38;5;34m127\u001b[0m, \u001b[38;5;34m127\u001b[0m, \u001b[38;5;34m32\u001b[0m)        │               \u001b[38;5;34m0\u001b[0m │\n",
       "├──────────────────────────────────────┼─────────────────────────────┼─────────────────┤\n",
       "│ conv2d_1 (\u001b[38;5;33mConv2D\u001b[0m)                    │ (\u001b[38;5;45mNone\u001b[0m, \u001b[38;5;34m125\u001b[0m, \u001b[38;5;34m125\u001b[0m, \u001b[38;5;34m32\u001b[0m)        │           \u001b[38;5;34m9,248\u001b[0m │\n",
       "├──────────────────────────────────────┼─────────────────────────────┼─────────────────┤\n",
       "│ global_average_pooling2d             │ (\u001b[38;5;45mNone\u001b[0m, \u001b[38;5;34m32\u001b[0m)                  │               \u001b[38;5;34m0\u001b[0m │\n",
       "│ (\u001b[38;5;33mGlobalAveragePooling2D\u001b[0m)             │                             │                 │\n",
       "├──────────────────────────────────────┼─────────────────────────────┼─────────────────┤\n",
       "│ dense (\u001b[38;5;33mDense\u001b[0m)                        │ (\u001b[38;5;45mNone\u001b[0m, \u001b[38;5;34m3\u001b[0m)                   │              \u001b[38;5;34m99\u001b[0m │\n",
       "└──────────────────────────────────────┴─────────────────────────────┴─────────────────┘\n"
      ]
     },
     "metadata": {},
     "output_type": "display_data"
    },
    {
     "data": {
      "text/html": [
       "<pre style=\"white-space:pre;overflow-x:auto;line-height:normal;font-family:Menlo,'DejaVu Sans Mono',consolas,'Courier New',monospace\"><span style=\"font-weight: bold\"> Total params: </span><span style=\"color: #00af00; text-decoration-color: #00af00\">9,667</span> (37.76 KB)\n",
       "</pre>\n"
      ],
      "text/plain": [
       "\u001b[1m Total params: \u001b[0m\u001b[38;5;34m9,667\u001b[0m (37.76 KB)\n"
      ]
     },
     "metadata": {},
     "output_type": "display_data"
    },
    {
     "data": {
      "text/html": [
       "<pre style=\"white-space:pre;overflow-x:auto;line-height:normal;font-family:Menlo,'DejaVu Sans Mono',consolas,'Courier New',monospace\"><span style=\"font-weight: bold\"> Trainable params: </span><span style=\"color: #00af00; text-decoration-color: #00af00\">9,667</span> (37.76 KB)\n",
       "</pre>\n"
      ],
      "text/plain": [
       "\u001b[1m Trainable params: \u001b[0m\u001b[38;5;34m9,667\u001b[0m (37.76 KB)\n"
      ]
     },
     "metadata": {},
     "output_type": "display_data"
    },
    {
     "data": {
      "text/html": [
       "<pre style=\"white-space:pre;overflow-x:auto;line-height:normal;font-family:Menlo,'DejaVu Sans Mono',consolas,'Courier New',monospace\"><span style=\"font-weight: bold\"> Non-trainable params: </span><span style=\"color: #00af00; text-decoration-color: #00af00\">0</span> (0.00 B)\n",
       "</pre>\n"
      ],
      "text/plain": [
       "\u001b[1m Non-trainable params: \u001b[0m\u001b[38;5;34m0\u001b[0m (0.00 B)\n"
      ]
     },
     "metadata": {},
     "output_type": "display_data"
    }
   ],
   "source": [
    "model.summary()"
   ]
  },
  {
   "cell_type": "code",
   "execution_count": 12,
   "id": "868ae879-7b06-4f8e-b7c4-5f79785fcc37",
   "metadata": {},
   "outputs": [
    {
     "data": {
      "text/plain": [
       "'X_train = np.array(X_train,dtype=np.float32)\\nX_test = np.array(X_test,dtype=np.float32)\\ny_train = np.array(y_train,dtype=np.float32)\\ny_test = np.array(y_test,dtype=np.float32)'"
      ]
     },
     "execution_count": 12,
     "metadata": {},
     "output_type": "execute_result"
    }
   ],
   "source": [
    "'''X_train = np.array(X_train,dtype=np.float32)\n",
    "X_test = np.array(X_test,dtype=np.float32)\n",
    "y_train = np.array(y_train,dtype=np.float32)\n",
    "y_test = np.array(y_test,dtype=np.float32)'''"
   ]
  },
  {
   "cell_type": "code",
   "execution_count": 13,
   "id": "bf945344-0688-4ebb-94bd-8c917e14dd03",
   "metadata": {},
   "outputs": [],
   "source": [
    "from tensorflow.keras.preprocessing.image import ImageDataGenerator\n",
    "\n",
    "datageneration = ImageDataGenerator(rotation_range=20,\n",
    "                                   width_shift_range=0.1,\n",
    "                                   height_shift_range=0.1,\n",
    "                                   zoom_range=0.1,\n",
    "                                   horizontal_flip=True)\n",
    "train_generated = datageneration.flow(X_train,y_train,batch_size=32)"
   ]
  },
  {
   "cell_type": "code",
   "execution_count": 14,
   "id": "717e4ff8-cb40-4142-bb10-cbaa20b0802f",
   "metadata": {},
   "outputs": [
    {
     "name": "stderr",
     "output_type": "stream",
     "text": [
      "C:\\Users\\marto\\anaconda3\\Lib\\site-packages\\keras\\src\\trainers\\data_adapters\\py_dataset_adapter.py:121: UserWarning: Your `PyDataset` class should call `super().__init__(**kwargs)` in its constructor. `**kwargs` can include `workers`, `use_multiprocessing`, `max_queue_size`. Do not pass these arguments to `fit()`, as they will be ignored.\n",
      "  self._warn_if_super_not_called()\n"
     ]
    },
    {
     "name": "stdout",
     "output_type": "stream",
     "text": [
      "Epoch 1/20\n",
      "\u001b[1m65/65\u001b[0m \u001b[32m━━━━━━━━━━━━━━━━━━━━\u001b[0m\u001b[37m\u001b[0m \u001b[1m22s\u001b[0m 308ms/step - accuracy: 0.4650 - loss: 1.0743 - val_accuracy: 0.4407 - val_loss: 1.0832\n",
      "Epoch 2/20\n",
      "\u001b[1m65/65\u001b[0m \u001b[32m━━━━━━━━━━━━━━━━━━━━\u001b[0m\u001b[37m\u001b[0m \u001b[1m18s\u001b[0m 273ms/step - accuracy: 0.4771 - loss: 1.0573 - val_accuracy: 0.4407 - val_loss: 1.0640\n",
      "Epoch 3/20\n",
      "\u001b[1m65/65\u001b[0m \u001b[32m━━━━━━━━━━━━━━━━━━━━\u001b[0m\u001b[37m\u001b[0m \u001b[1m18s\u001b[0m 274ms/step - accuracy: 0.4987 - loss: 1.0170 - val_accuracy: 0.4802 - val_loss: 1.0062\n",
      "Epoch 4/20\n",
      "\u001b[1m65/65\u001b[0m \u001b[32m━━━━━━━━━━━━━━━━━━━━\u001b[0m\u001b[37m\u001b[0m \u001b[1m19s\u001b[0m 284ms/step - accuracy: 0.4920 - loss: 0.9804 - val_accuracy: 0.5494 - val_loss: 0.9607\n",
      "Epoch 5/20\n",
      "\u001b[1m65/65\u001b[0m \u001b[32m━━━━━━━━━━━━━━━━━━━━\u001b[0m\u001b[37m\u001b[0m \u001b[1m18s\u001b[0m 283ms/step - accuracy: 0.5063 - loss: 0.9628 - val_accuracy: 0.5731 - val_loss: 0.9315\n",
      "Epoch 6/20\n",
      "\u001b[1m65/65\u001b[0m \u001b[32m━━━━━━━━━━━━━━━━━━━━\u001b[0m\u001b[37m\u001b[0m \u001b[1m19s\u001b[0m 295ms/step - accuracy: 0.5303 - loss: 0.9474 - val_accuracy: 0.5553 - val_loss: 0.9493\n",
      "Epoch 7/20\n",
      "\u001b[1m65/65\u001b[0m \u001b[32m━━━━━━━━━━━━━━━━━━━━\u001b[0m\u001b[37m\u001b[0m \u001b[1m18s\u001b[0m 279ms/step - accuracy: 0.4932 - loss: 0.9721 - val_accuracy: 0.5583 - val_loss: 0.9281\n",
      "Epoch 8/20\n",
      "\u001b[1m65/65\u001b[0m \u001b[32m━━━━━━━━━━━━━━━━━━━━\u001b[0m\u001b[37m\u001b[0m \u001b[1m19s\u001b[0m 289ms/step - accuracy: 0.5457 - loss: 0.9214 - val_accuracy: 0.5751 - val_loss: 0.8756\n",
      "Epoch 9/20\n",
      "\u001b[1m65/65\u001b[0m \u001b[32m━━━━━━━━━━━━━━━━━━━━\u001b[0m\u001b[37m\u001b[0m \u001b[1m18s\u001b[0m 276ms/step - accuracy: 0.5451 - loss: 0.8917 - val_accuracy: 0.5899 - val_loss: 0.8528\n",
      "Epoch 10/20\n",
      "\u001b[1m65/65\u001b[0m \u001b[32m━━━━━━━━━━━━━━━━━━━━\u001b[0m\u001b[37m\u001b[0m \u001b[1m18s\u001b[0m 280ms/step - accuracy: 0.5894 - loss: 0.8692 - val_accuracy: 0.6117 - val_loss: 0.8257\n",
      "Epoch 11/20\n",
      "\u001b[1m65/65\u001b[0m \u001b[32m━━━━━━━━━━━━━━━━━━━━\u001b[0m\u001b[37m\u001b[0m \u001b[1m18s\u001b[0m 270ms/step - accuracy: 0.6055 - loss: 0.8535 - val_accuracy: 0.6344 - val_loss: 0.8050\n",
      "Epoch 12/20\n",
      "\u001b[1m65/65\u001b[0m \u001b[32m━━━━━━━━━━━━━━━━━━━━\u001b[0m\u001b[37m\u001b[0m \u001b[1m18s\u001b[0m 275ms/step - accuracy: 0.6074 - loss: 0.8557 - val_accuracy: 0.6907 - val_loss: 0.7907\n",
      "Epoch 13/20\n",
      "\u001b[1m65/65\u001b[0m \u001b[32m━━━━━━━━━━━━━━━━━━━━\u001b[0m\u001b[37m\u001b[0m \u001b[1m18s\u001b[0m 282ms/step - accuracy: 0.6644 - loss: 0.8026 - val_accuracy: 0.6215 - val_loss: 0.7953\n",
      "Epoch 14/20\n",
      "\u001b[1m65/65\u001b[0m \u001b[32m━━━━━━━━━━━━━━━━━━━━\u001b[0m\u001b[37m\u001b[0m \u001b[1m18s\u001b[0m 277ms/step - accuracy: 0.6766 - loss: 0.7807 - val_accuracy: 0.5929 - val_loss: 0.8291\n",
      "Epoch 15/20\n",
      "\u001b[1m65/65\u001b[0m \u001b[32m━━━━━━━━━━━━━━━━━━━━\u001b[0m\u001b[37m\u001b[0m \u001b[1m18s\u001b[0m 271ms/step - accuracy: 0.6852 - loss: 0.7689 - val_accuracy: 0.6887 - val_loss: 0.7499\n",
      "Epoch 16/20\n",
      "\u001b[1m65/65\u001b[0m \u001b[32m━━━━━━━━━━━━━━━━━━━━\u001b[0m\u001b[37m\u001b[0m \u001b[1m18s\u001b[0m 273ms/step - accuracy: 0.6921 - loss: 0.7479 - val_accuracy: 0.6947 - val_loss: 0.7390\n",
      "Epoch 17/20\n",
      "\u001b[1m65/65\u001b[0m \u001b[32m━━━━━━━━━━━━━━━━━━━━\u001b[0m\u001b[37m\u001b[0m \u001b[1m18s\u001b[0m 274ms/step - accuracy: 0.7017 - loss: 0.7496 - val_accuracy: 0.7174 - val_loss: 0.7047\n",
      "Epoch 18/20\n",
      "\u001b[1m65/65\u001b[0m \u001b[32m━━━━━━━━━━━━━━━━━━━━\u001b[0m\u001b[37m\u001b[0m \u001b[1m18s\u001b[0m 274ms/step - accuracy: 0.7141 - loss: 0.7127 - val_accuracy: 0.6581 - val_loss: 0.7596\n",
      "Epoch 19/20\n",
      "\u001b[1m65/65\u001b[0m \u001b[32m━━━━━━━━━━━━━━━━━━━━\u001b[0m\u001b[37m\u001b[0m \u001b[1m18s\u001b[0m 276ms/step - accuracy: 0.7122 - loss: 0.6976 - val_accuracy: 0.6808 - val_loss: 0.7086\n",
      "Epoch 20/20\n",
      "\u001b[1m65/65\u001b[0m \u001b[32m━━━━━━━━━━━━━━━━━━━━\u001b[0m\u001b[37m\u001b[0m \u001b[1m18s\u001b[0m 277ms/step - accuracy: 0.7233 - loss: 0.6949 - val_accuracy: 0.7154 - val_loss: 0.6721\n"
     ]
    }
   ],
   "source": [
    "model.compile(optimizer='adam', loss=tf.keras.losses.SparseCategoricalCrossentropy(), metrics=['accuracy'])\n",
    "history = model.fit(train_generated, epochs=20, validation_data=(X_test,y_test))"
   ]
  },
  {
   "cell_type": "code",
   "execution_count": 15,
   "id": "84438502-19f0-40be-a4de-b773a679ffbc",
   "metadata": {},
   "outputs": [
    {
     "name": "stdout",
     "output_type": "stream",
     "text": [
      "\u001b[1m32/32\u001b[0m \u001b[32m━━━━━━━━━━━━━━━━━━━━\u001b[0m\u001b[37m\u001b[0m \u001b[1m2s\u001b[0m 55ms/step\n",
      "Pontosság: 0.7154150197628458\n",
      "\n",
      "Részletes riport:\n",
      "               precision    recall  f1-score   support\n",
      "\n",
      "           0       0.78      0.63      0.70       251\n",
      "           1       0.78      0.70      0.74       446\n",
      "           2       0.62      0.81      0.70       315\n",
      "\n",
      "    accuracy                           0.72      1012\n",
      "   macro avg       0.73      0.71      0.71      1012\n",
      "weighted avg       0.73      0.72      0.72      1012\n",
      "\n"
     ]
    }
   ],
   "source": [
    "predictions = model.predict(X_test)\n",
    "predicted_classes = np.argmax(predictions, axis=1)\n",
    "\n",
    "# Pontosság kiírása\n",
    "from sklearn.metrics import accuracy_score, classification_report\n",
    "\n",
    "print(\"Pontosság:\", accuracy_score(y_test, predicted_classes))\n",
    "print(\"\\nRészletes riport:\\n\", classification_report(y_test, predicted_classes))"
   ]
  },
  {
   "cell_type": "code",
   "execution_count": 16,
   "id": "41850e33-d45d-41f4-bf18-670590b33125",
   "metadata": {},
   "outputs": [
    {
     "data": {
      "text/plain": [
       "['C:/Users/marto/Desktop/Thesis/backend/models/BrainTumorClassificationHistory.pkl']"
      ]
     },
     "execution_count": 16,
     "metadata": {},
     "output_type": "execute_result"
    }
   ],
   "source": [
    "import joblib as jl\n",
    "#model.save('C:/Users/marto/Desktop/Thesis/backend/models/BrainTumorClassificationModel.h5')\n",
    "jl.dump(history,'C:/Users/marto/Desktop/Thesis/backend/models/BrainTumorClassificationHistory.pkl')"
   ]
  },
  {
   "cell_type": "code",
   "execution_count": 17,
   "id": "be95accb-7dec-4b16-9f44-3eedbc8c1ea2",
   "metadata": {},
   "outputs": [
    {
     "data": {
      "text/plain": [
       "0.7154150197628458"
      ]
     },
     "execution_count": 17,
     "metadata": {},
     "output_type": "execute_result"
    }
   ],
   "source": [
    "accuracy_score(y_test, predicted_classes)"
   ]
  },
  {
   "cell_type": "code",
   "execution_count": 18,
   "id": "4a44484c-43a5-40f3-ab4c-793bd29197fb",
   "metadata": {},
   "outputs": [
    {
     "data": {
      "text/plain": [
       "0.7154150197628458"
      ]
     },
     "execution_count": 18,
     "metadata": {},
     "output_type": "execute_result"
    }
   ],
   "source": [
    "# 1. Pontosság (Accuracy)\n",
    "accuracy_score(y_test, predicted_classes)"
   ]
  },
  {
   "cell_type": "code",
   "execution_count": 19,
   "id": "35e16168-389e-4e62-b8b5-ff8e1bb8d7ab",
   "metadata": {},
   "outputs": [
    {
     "name": "stdout",
     "output_type": "stream",
     "text": [
      "              precision    recall  f1-score   support\n",
      "\n",
      "           0       0.78      0.63      0.70       251\n",
      "           1       0.78      0.70      0.74       446\n",
      "           2       0.62      0.81      0.70       315\n",
      "\n",
      "    accuracy                           0.72      1012\n",
      "   macro avg       0.73      0.71      0.71      1012\n",
      "weighted avg       0.73      0.72      0.72      1012\n",
      "\n"
     ]
    }
   ],
   "source": [
    "# 2. Precision, Recall, F1-score\n",
    "print(classification_report(y_test, predicted_classes))"
   ]
  },
  {
   "cell_type": "code",
   "execution_count": 20,
   "id": "7cbb22e8-5b99-4b42-b424-194692e43f87",
   "metadata": {},
   "outputs": [],
   "source": [
    "# 3. Confusion Matrix\n",
    "\n",
    "#confusion_matrix = metrics.confusion_matrix(actual, predicted)\n",
    "\n",
    "#cm_display = metrics.ConfusionMatrixDisplay(confusion_matrix = confusion_matrix, display_labels = [0, 1])\n"
   ]
  },
  {
   "cell_type": "code",
   "execution_count": 21,
   "id": "7b015abb-3bc8-439b-98ad-d83fadecbd8c",
   "metadata": {},
   "outputs": [],
   "source": [
    "# 4. ROC-AUC (Receiver Operating Characteristic - Area Under Curve) ------ nem releváns"
   ]
  },
  {
   "cell_type": "code",
   "execution_count": 22,
   "id": "166d7cc6-3718-41f7-bbf3-91361626e0f5",
   "metadata": {},
   "outputs": [
    {
     "data": {
      "image/png": "[encoded data removed]",
      "text/plain": [
       "<Figure size 1000x500 with 1 Axes>"
      ]
     },
     "metadata": {},
     "output_type": "display_data"
    }
   ],
   "source": [
    "# 5. Loss (veszteség) érték\n",
    "plt.figure(figsize=(10, 5))\n",
    "plt.plot(history.history['loss'], label='train loss')\n",
    "plt.plot(history.history['val_loss'], label='validation loss')\n",
    "plt.legend()\n",
    "plt.show()"
   ]
  },
  {
   "cell_type": "code",
   "execution_count": 23,
   "id": "6c167f84-780e-4cd3-bce3-d9ad8dc6919d",
   "metadata": {},
   "outputs": [
    {
     "data": {
      "text/plain": [
       "[1.0683587789535522,\n",
       " 1.051837682723999,\n",
       " 1.0227997303009033,\n",
       " 0.9835626482963562,\n",
       " 0.9565719962120056,\n",
       " 0.9456958174705505,\n",
       " 0.9353819489479065,\n",
       " 0.915101170539856,\n",
       " 0.8919882774353027,\n",
       " 0.8704883456230164,\n",
       " 0.8571721315383911,\n",
       " 0.8475651144981384,\n",
       " 0.8013985753059387,\n",
       " 0.7909010648727417,\n",
       " 0.767045259475708,\n",
       " 0.7420401573181152,\n",
       " 0.7440512180328369,\n",
       " 0.7140625715255737,\n",
       " 0.6949267387390137,\n",
       " 0.6784371733665466]"
      ]
     },
     "execution_count": 23,
     "metadata": {},
     "output_type": "execute_result"
    }
   ],
   "source": [
    "history.history['loss']"
   ]
  },
  {
   "cell_type": "code",
   "execution_count": 24,
   "id": "bf8d48e4-e335-4d11-9a4c-5d56bec0a9cd",
   "metadata": {},
   "outputs": [
    {
     "data": {
      "text/plain": [
       "[1.0831533670425415,\n",
       " 1.0640380382537842,\n",
       " 1.0062345266342163,\n",
       " 0.9606881737709045,\n",
       " 0.9314515590667725,\n",
       " 0.9492791891098022,\n",
       " 0.9281243085861206,\n",
       " 0.8756393194198608,\n",
       " 0.8528204560279846,\n",
       " 0.8257017135620117,\n",
       " 0.8050311803817749,\n",
       " 0.7906890511512756,\n",
       " 0.7952558994293213,\n",
       " 0.8290579915046692,\n",
       " 0.7499071955680847,\n",
       " 0.7390122413635254,\n",
       " 0.7047150731086731,\n",
       " 0.7595937848091125,\n",
       " 0.7085976004600525,\n",
       " 0.6720582246780396]"
      ]
     },
     "execution_count": 24,
     "metadata": {},
     "output_type": "execute_result"
    }
   ],
   "source": [
    "history.history['val_loss']"
   ]
  },
  {
   "cell_type": "code",
   "execution_count": 25,
   "id": "31b575ab-b3b9-4cfc-8cbc-b3acc858faff",
   "metadata": {},
   "outputs": [],
   "source": [
    "# 6. Tanulási görbe"
   ]
  },
  {
   "cell_type": "code",
   "execution_count": 26,
   "id": "03de2490-a63e-4d07-98ba-3e7a58f9b353",
   "metadata": {},
   "outputs": [],
   "source": [
    "# 7. Modelméret ------ nem releváns"
   ]
  },
  {
   "cell_type": "code",
   "execution_count": 27,
   "id": "ecc64f60-5fab-40ce-a185-11818b4d83c8",
   "metadata": {},
   "outputs": [],
   "source": [
    "# 8. Inference sebesség / Latencia ------ nem releváns"
   ]
  },
  {
   "cell_type": "code",
   "execution_count": 28,
   "id": "db5b5f22-16c6-4a35-a27b-021e9befaf49",
   "metadata": {},
   "outputs": [],
   "source": [
    "# 9. Train Time (Tanítási idő)"
   ]
  },
  {
   "cell_type": "code",
   "execution_count": 29,
   "id": "adfb4c79-bd34-4d03-a882-feef39c1965b",
   "metadata": {},
   "outputs": [],
   "source": [
    "# 10. Generalizációs képesség ------- nem tudom "
   ]
  },
  {
   "cell_type": "code",
   "execution_count": 30,
   "id": "5b703efa-d6d0-410f-8990-1309775b7d09",
   "metadata": {},
   "outputs": [
    {
     "name": "stdout",
     "output_type": "stream",
     "text": [
      "1012\n"
     ]
    }
   ],
   "source": [
    "print(len(y_test))"
   ]
  },
  {
   "cell_type": "code",
   "execution_count": 31,
   "id": "a293859f-c6a5-4e58-9391-18945f74f0fc",
   "metadata": {},
   "outputs": [],
   "source": [
    "with open('C:/Users/marto/Desktop/Thesis/backend/brainTumor_y_test.npy', 'w') as filehandle:  \n",
    "    filehandle.writelines(\"%s\\n\" % x for x in y_test)"
   ]
  },
  {
   "cell_type": "code",
   "execution_count": 32,
   "id": "855ea051-08ba-4522-b113-49cd445542ec",
   "metadata": {},
   "outputs": [],
   "source": [
    "y_test = []\n",
    "with open('C:/Users/marto/Desktop/Thesis/backend/brainTumor_y_test.txt', 'r') as filehandle: \n",
    "    content = filehandle.readlines()\n",
    "    for data in content:\n",
    "        y_test.append(data[:-1])"
   ]
  },
  {
   "cell_type": "code",
   "execution_count": 33,
   "id": "e6e92598-5f24-4c75-b57b-7b8eb42fa9b0",
   "metadata": {},
   "outputs": [],
   "source": [
    "#y_test"
   ]
  },
  {
   "cell_type": "code",
   "execution_count": 34,
   "id": "de0a6fcb-5546-498d-8c45-21525e5f4018",
   "metadata": {},
   "outputs": [],
   "source": [
    "with open('C:/Users/marto/Desktop/Thesis/backend/brainTumor_X_test.npy', 'w') as filehandle:  \n",
    "    filehandle.writelines(\"%s\\n\" % x for x in X_test)"
   ]
  },
  {
   "cell_type": "code",
   "execution_count": 35,
   "id": "2ad5c12b-6285-4e71-ad1d-2c350a4a4bfe",
   "metadata": {},
   "outputs": [],
   "source": [
    "np.save('C:/Users/marto/Desktop/Thesis/backend/brainTumor_y_test.npy',y_test)\n",
    "np.save('C:/Users/marto/Desktop/Thesis/backend/brainTumor_X_test.npy',X_test)"
   ]
  },
  {
   "cell_type": "code",
   "execution_count": 36,
   "id": "aee2e592-a0b5-4194-90b6-4fc2ad3b89b3",
   "metadata": {},
   "outputs": [
    {
     "data": {
      "text/plain": [
       "0.8639693200588227"
      ]
     },
     "execution_count": 36,
     "metadata": {},
     "output_type": "execute_result"
    }
   ],
   "source": [
    "np.array(history.history['loss']).sum()/len(np.array(history.history['loss']))"
   ]
  },
  {
   "cell_type": "code",
   "execution_count": 37,
   "id": "3d7eba80-98cd-4b4a-afe2-1461056a2f64",
   "metadata": {},
   "outputs": [
    {
     "name": "stdout",
     "output_type": "stream",
     "text": [
      "\u001b[1m1/1\u001b[0m \u001b[32m━━━━━━━━━━━━━━━━━━━━\u001b[0m\u001b[37m\u001b[0m \u001b[1m0s\u001b[0m 48ms/step\n",
      "Predikált osztály: [2], valószínűség: 0.72\n"
     ]
    }
   ],
   "source": [
    "pred = model.predict(np.expand_dims(X[21],axis=0))\n",
    "pred_class = np.argmax(pred,axis=1).tolist()\n",
    "pred_prob = np.max(pred)\n",
    "print(f\"Predikált osztály: {pred_class}, valószínűség: {pred_prob:.2f}\")"
   ]
  },
  {
   "cell_type": "code",
   "execution_count": 38,
   "id": "ddde11f1-c20c-4da1-851b-d13ca67d20c2",
   "metadata": {},
   "outputs": [
    {
     "data": {
      "text/plain": [
       "0"
      ]
     },
     "execution_count": 38,
     "metadata": {},
     "output_type": "execute_result"
    }
   ],
   "source": [
    "y[0]"
   ]
  },
  {
   "cell_type": "code",
   "execution_count": 39,
   "id": "6510f7aa-c65d-4a0d-8f01-4a4290eeb20d",
   "metadata": {},
   "outputs": [
    {
     "data": {
      "text/plain": [
       "0"
      ]
     },
     "execution_count": 39,
     "metadata": {},
     "output_type": "execute_result"
    }
   ],
   "source": [
    "y[1]"
   ]
  },
  {
   "cell_type": "code",
   "execution_count": 40,
   "id": "625a2a87-6c35-42cd-bd28-b0fd25e402cb",
   "metadata": {},
   "outputs": [
    {
     "data": {
      "text/plain": [
       "0"
      ]
     },
     "execution_count": 40,
     "metadata": {},
     "output_type": "execute_result"
    }
   ],
   "source": [
    "y[2]"
   ]
  },
  {
   "cell_type": "code",
   "execution_count": 41,
   "id": "062b55df-eec3-486b-a12e-1c0775e99e89",
   "metadata": {},
   "outputs": [
    {
     "data": {
      "text/plain": [
       "2"
      ]
     },
     "execution_count": 41,
     "metadata": {},
     "output_type": "execute_result"
    }
   ],
   "source": [
    "y[5]"
   ]
  },
  {
   "cell_type": "code",
   "execution_count": 42,
   "id": "dc9b9906-b56b-47d3-93ba-774da13c869b",
   "metadata": {},
   "outputs": [
    {
     "data": {
      "text/plain": [
       "2"
      ]
     },
     "execution_count": 42,
     "metadata": {},
     "output_type": "execute_result"
    }
   ],
   "source": [
    "y[100]"
   ]
  },
  {
   "cell_type": "code",
   "execution_count": 43,
   "id": "f639bca7-a7da-4423-87dd-8044e85866ab",
   "metadata": {},
   "outputs": [
    {
     "data": {
      "text/plain": [
       "2"
      ]
     },
     "execution_count": 43,
     "metadata": {},
     "output_type": "execute_result"
    }
   ],
   "source": [
    "y[21]"
   ]
  },
  {
   "cell_type": "code",
   "execution_count": 44,
   "id": "eefc9086-3ff1-403e-b0d5-80e801025c6e",
   "metadata": {},
   "outputs": [],
   "source": [
    "image = X[21]\n",
    "np.save(\"C:/Users/marto/Desktop/Thesis/backend/test_img.npy\", image)\n"
   ]
  },
  {
   "cell_type": "code",
   "execution_count": 45,
   "id": "e7e4d968-6290-47d8-9a85-d48ed7f68214",
   "metadata": {},
   "outputs": [
    {
     "name": "stdout",
     "output_type": "stream",
     "text": [
      "tf.Tensor([[0.22638743 0.05192381 0.72168875]], shape=(1, 3), dtype=float32)\n"
     ]
    }
   ],
   "source": [
    "img = np.load(\"C:/Users/marto/Desktop/Thesis/backend/test_img.npy\")\n",
    "import tensorflow as tf\n",
    "img = np.expand_dims(img,axis=0)\n",
    "img_tf = tf.convert_to_tensor(img, dtype=tf.float32)\n",
    "pred = model(img_tf, training=False)\n",
    "\n",
    "'''\n",
    "img = img.astype(np.float32)/255.0\n",
    "img = np.expand_dims(img,axis=-1)\n",
    "img = np.expand_dims(img,axis=0)\n",
    "print(img.shape, img.min(), img.max())\n",
    "pred = model.predict(img)'''\n",
    "print(pred)\n"
   ]
  },
  {
   "cell_type": "code",
   "execution_count": 46,
   "id": "c9704e00-aea3-4dd4-9897-db5a0331b31f",
   "metadata": {},
   "outputs": [
    {
     "name": "stdout",
     "output_type": "stream",
     "text": [
      "Predicted class: 2\n",
      "Probability: 0.7216887474060059\n"
     ]
    }
   ],
   "source": [
    "pred_class = int(np.argmax(pred, axis=1)[0])  # az osztály indexe (0-tól)\n",
    "pred_prob = float(np.max(pred))  # a valószínűsége\n",
    "print(\"Predicted class:\", pred_class)\n",
    "print(\"Probability:\", pred_prob)"
   ]
  },
  {
   "cell_type": "code",
   "execution_count": 47,
   "id": "8fbbbe9b-b203-4c99-9b84-a294366096eb",
   "metadata": {},
   "outputs": [
    {
     "data": {
      "text/html": [
       "<pre style=\"white-space:pre;overflow-x:auto;line-height:normal;font-family:Menlo,'DejaVu Sans Mono',consolas,'Courier New',monospace\"><span style=\"font-weight: bold\">Model: \"sequential\"</span>\n",
       "</pre>\n"
      ],
      "text/plain": [
       "\u001b[1mModel: \"sequential\"\u001b[0m\n"
      ]
     },
     "metadata": {},
     "output_type": "display_data"
    },
    {
     "data": {
      "text/html": [
       "<pre style=\"white-space:pre;overflow-x:auto;line-height:normal;font-family:Menlo,'DejaVu Sans Mono',consolas,'Courier New',monospace\">┏━━━━━━━━━━━━━━━━━━━━━━━━━━━━━━━━━━━━━━┳━━━━━━━━━━━━━━━━━━━━━━━━━━━━━┳━━━━━━━━━━━━━━━━━┓\n",
       "┃<span style=\"font-weight: bold\"> Layer (type)                         </span>┃<span style=\"font-weight: bold\"> Output Shape                </span>┃<span style=\"font-weight: bold\">         Param # </span>┃\n",
       "┡━━━━━━━━━━━━━━━━━━━━━━━━━━━━━━━━━━━━━━╇━━━━━━━━━━━━━━━━━━━━━━━━━━━━━╇━━━━━━━━━━━━━━━━━┩\n",
       "│ conv2d (<span style=\"color: #0087ff; text-decoration-color: #0087ff\">Conv2D</span>)                      │ (<span style=\"color: #00d7ff; text-decoration-color: #00d7ff\">None</span>, <span style=\"color: #00af00; text-decoration-color: #00af00\">254</span>, <span style=\"color: #00af00; text-decoration-color: #00af00\">254</span>, <span style=\"color: #00af00; text-decoration-color: #00af00\">32</span>)        │             <span style=\"color: #00af00; text-decoration-color: #00af00\">320</span> │\n",
       "├──────────────────────────────────────┼─────────────────────────────┼─────────────────┤\n",
       "│ max_pooling2d (<span style=\"color: #0087ff; text-decoration-color: #0087ff\">MaxPooling2D</span>)         │ (<span style=\"color: #00d7ff; text-decoration-color: #00d7ff\">None</span>, <span style=\"color: #00af00; text-decoration-color: #00af00\">127</span>, <span style=\"color: #00af00; text-decoration-color: #00af00\">127</span>, <span style=\"color: #00af00; text-decoration-color: #00af00\">32</span>)        │               <span style=\"color: #00af00; text-decoration-color: #00af00\">0</span> │\n",
       "├──────────────────────────────────────┼─────────────────────────────┼─────────────────┤\n",
       "│ conv2d_1 (<span style=\"color: #0087ff; text-decoration-color: #0087ff\">Conv2D</span>)                    │ (<span style=\"color: #00d7ff; text-decoration-color: #00d7ff\">None</span>, <span style=\"color: #00af00; text-decoration-color: #00af00\">125</span>, <span style=\"color: #00af00; text-decoration-color: #00af00\">125</span>, <span style=\"color: #00af00; text-decoration-color: #00af00\">32</span>)        │           <span style=\"color: #00af00; text-decoration-color: #00af00\">9,248</span> │\n",
       "├──────────────────────────────────────┼─────────────────────────────┼─────────────────┤\n",
       "│ global_average_pooling2d             │ (<span style=\"color: #00d7ff; text-decoration-color: #00d7ff\">None</span>, <span style=\"color: #00af00; text-decoration-color: #00af00\">32</span>)                  │               <span style=\"color: #00af00; text-decoration-color: #00af00\">0</span> │\n",
       "│ (<span style=\"color: #0087ff; text-decoration-color: #0087ff\">GlobalAveragePooling2D</span>)             │                             │                 │\n",
       "├──────────────────────────────────────┼─────────────────────────────┼─────────────────┤\n",
       "│ dense (<span style=\"color: #0087ff; text-decoration-color: #0087ff\">Dense</span>)                        │ (<span style=\"color: #00d7ff; text-decoration-color: #00d7ff\">None</span>, <span style=\"color: #00af00; text-decoration-color: #00af00\">3</span>)                   │              <span style=\"color: #00af00; text-decoration-color: #00af00\">99</span> │\n",
       "└──────────────────────────────────────┴─────────────────────────────┴─────────────────┘\n",
       "</pre>\n"
      ],
      "text/plain": [
       "┏━━━━━━━━━━━━━━━━━━━━━━━━━━━━━━━━━━━━━━┳━━━━━━━━━━━━━━━━━━━━━━━━━━━━━┳━━━━━━━━━━━━━━━━━┓\n",
       "┃\u001b[1m \u001b[0m\u001b[1mLayer (type)                        \u001b[0m\u001b[1m \u001b[0m┃\u001b[1m \u001b[0m\u001b[1mOutput Shape               \u001b[0m\u001b[1m \u001b[0m┃\u001b[1m \u001b[0m\u001b[1m        Param #\u001b[0m\u001b[1m \u001b[0m┃\n",
       "┡━━━━━━━━━━━━━━━━━━━━━━━━━━━━━━━━━━━━━━╇━━━━━━━━━━━━━━━━━━━━━━━━━━━━━╇━━━━━━━━━━━━━━━━━┩\n",
       "│ conv2d (\u001b[38;5;33mConv2D\u001b[0m)                      │ (\u001b[38;5;45mNone\u001b[0m, \u001b[38;5;34m254\u001b[0m, \u001b[38;5;34m254\u001b[0m, \u001b[38;5;34m32\u001b[0m)        │             \u001b[38;5;34m320\u001b[0m │\n",
       "├──────────────────────────────────────┼─────────────────────────────┼─────────────────┤\n",
       "│ max_pooling2d (\u001b[38;5;33mMaxPooling2D\u001b[0m)         │ (\u001b[38;5;45mNone\u001b[0m, \u001b[38;5;34m127\u001b[0m, \u001b[38;5;34m127\u001b[0m, \u001b[38;5;34m32\u001b[0m)        │               \u001b[38;5;34m0\u001b[0m │\n",
       "├──────────────────────────────────────┼─────────────────────────────┼─────────────────┤\n",
       "│ conv2d_1 (\u001b[38;5;33mConv2D\u001b[0m)                    │ (\u001b[38;5;45mNone\u001b[0m, \u001b[38;5;34m125\u001b[0m, \u001b[38;5;34m125\u001b[0m, \u001b[38;5;34m32\u001b[0m)        │           \u001b[38;5;34m9,248\u001b[0m │\n",
       "├──────────────────────────────────────┼─────────────────────────────┼─────────────────┤\n",
       "│ global_average_pooling2d             │ (\u001b[38;5;45mNone\u001b[0m, \u001b[38;5;34m32\u001b[0m)                  │               \u001b[38;5;34m0\u001b[0m │\n",
       "│ (\u001b[38;5;33mGlobalAveragePooling2D\u001b[0m)             │                             │                 │\n",
       "├──────────────────────────────────────┼─────────────────────────────┼─────────────────┤\n",
       "│ dense (\u001b[38;5;33mDense\u001b[0m)                        │ (\u001b[38;5;45mNone\u001b[0m, \u001b[38;5;34m3\u001b[0m)                   │              \u001b[38;5;34m99\u001b[0m │\n",
       "└──────────────────────────────────────┴─────────────────────────────┴─────────────────┘\n"
      ]
     },
     "metadata": {},
     "output_type": "display_data"
    },
    {
     "data": {
      "text/html": [
       "<pre style=\"white-space:pre;overflow-x:auto;line-height:normal;font-family:Menlo,'DejaVu Sans Mono',consolas,'Courier New',monospace\"><span style=\"font-weight: bold\"> Total params: </span><span style=\"color: #00af00; text-decoration-color: #00af00\">29,003</span> (113.30 KB)\n",
       "</pre>\n"
      ],
      "text/plain": [
       "\u001b[1m Total params: \u001b[0m\u001b[38;5;34m29,003\u001b[0m (113.30 KB)\n"
      ]
     },
     "metadata": {},
     "output_type": "display_data"
    },
    {
     "data": {
      "text/html": [
       "<pre style=\"white-space:pre;overflow-x:auto;line-height:normal;font-family:Menlo,'DejaVu Sans Mono',consolas,'Courier New',monospace\"><span style=\"font-weight: bold\"> Trainable params: </span><span style=\"color: #00af00; text-decoration-color: #00af00\">9,667</span> (37.76 KB)\n",
       "</pre>\n"
      ],
      "text/plain": [
       "\u001b[1m Trainable params: \u001b[0m\u001b[38;5;34m9,667\u001b[0m (37.76 KB)\n"
      ]
     },
     "metadata": {},
     "output_type": "display_data"
    },
    {
     "data": {
      "text/html": [
       "<pre style=\"white-space:pre;overflow-x:auto;line-height:normal;font-family:Menlo,'DejaVu Sans Mono',consolas,'Courier New',monospace\"><span style=\"font-weight: bold\"> Non-trainable params: </span><span style=\"color: #00af00; text-decoration-color: #00af00\">0</span> (0.00 B)\n",
       "</pre>\n"
      ],
      "text/plain": [
       "\u001b[1m Non-trainable params: \u001b[0m\u001b[38;5;34m0\u001b[0m (0.00 B)\n"
      ]
     },
     "metadata": {},
     "output_type": "display_data"
    },
    {
     "data": {
      "text/html": [
       "<pre style=\"white-space:pre;overflow-x:auto;line-height:normal;font-family:Menlo,'DejaVu Sans Mono',consolas,'Courier New',monospace\"><span style=\"font-weight: bold\"> Optimizer params: </span><span style=\"color: #00af00; text-decoration-color: #00af00\">19,336</span> (75.54 KB)\n",
       "</pre>\n"
      ],
      "text/plain": [
       "\u001b[1m Optimizer params: \u001b[0m\u001b[38;5;34m19,336\u001b[0m (75.54 KB)\n"
      ]
     },
     "metadata": {},
     "output_type": "display_data"
    },
    {
     "name": "stdout",
     "output_type": "stream",
     "text": [
      "None\n",
      "Input shape: (None, 256, 256, 1)\n",
      "Output shape: (None, 3)\n"
     ]
    }
   ],
   "source": [
    "print(model.summary())\n",
    "print(\"Input shape:\", model.input_shape)\n",
    "print(\"Output shape:\", model.output_shape)"
   ]
  },
  {
   "cell_type": "code",
   "execution_count": 48,
   "id": "3693ef77-6e95-4914-9bb2-a1c877226306",
   "metadata": {},
   "outputs": [
    {
     "data": {
      "text/plain": [
       "array([[[[0.],\n",
       "         [0.],\n",
       "         [0.],\n",
       "         ...,\n",
       "         [0.],\n",
       "         [0.],\n",
       "         [0.]],\n",
       "\n",
       "        [[0.],\n",
       "         [0.],\n",
       "         [0.],\n",
       "         ...,\n",
       "         [0.],\n",
       "         [0.],\n",
       "         [0.]],\n",
       "\n",
       "        [[0.],\n",
       "         [0.],\n",
       "         [0.],\n",
       "         ...,\n",
       "         [0.],\n",
       "         [0.],\n",
       "         [0.]],\n",
       "\n",
       "        ...,\n",
       "\n",
       "        [[0.],\n",
       "         [0.],\n",
       "         [0.],\n",
       "         ...,\n",
       "         [0.],\n",
       "         [0.],\n",
       "         [0.]],\n",
       "\n",
       "        [[0.],\n",
       "         [0.],\n",
       "         [0.],\n",
       "         ...,\n",
       "         [0.],\n",
       "         [0.],\n",
       "         [0.]],\n",
       "\n",
       "        [[0.],\n",
       "         [0.],\n",
       "         [0.],\n",
       "         ...,\n",
       "         [0.],\n",
       "         [0.],\n",
       "         [0.]]]], dtype=float32)"
      ]
     },
     "execution_count": 48,
     "metadata": {},
     "output_type": "execute_result"
    }
   ],
   "source": [
    "img = np.array(img, dtype=np.float32)\n",
    "img"
   ]
  },
  {
   "cell_type": "code",
   "execution_count": 49,
   "id": "33eefefd-fcec-4abd-a4a8-0784f2b613d7",
   "metadata": {},
   "outputs": [
    {
     "name": "stdout",
     "output_type": "stream",
     "text": [
      "Model input shape: (None, 256, 256, 1)\n",
      "Image shape: (1, 256, 256, 1)\n"
     ]
    }
   ],
   "source": [
    "print(\"Model input shape:\", model.input_shape)\n",
    "print(\"Image shape:\", img.shape)"
   ]
  },
  {
   "cell_type": "code",
   "execution_count": null,
   "id": "19a6ff3e-a8d5-41cb-ad7d-002522abaa96",
   "metadata": {},
   "outputs": [],
   "source": []
  },
  {
   "cell_type": "code",
   "execution_count": 50,
   "id": "909aa9ee-4b35-4d78-9d59-d2303a1660c0",
   "metadata": {},
   "outputs": [
    {
     "data": {
      "text/plain": [
       "['.ipynb_checkpoints',\n",
       " '1.mat',\n",
       " '10.mat',\n",
       " '100.mat',\n",
       " '1000.mat',\n",
       " '1001.mat',\n",
       " '1002.mat',\n",
       " '1003.mat',\n",
       " '1004.mat',\n",
       " '1005.mat',\n",
       " '1006.mat',\n",
       " '1007.mat',\n",
       " '1008.mat',\n",
       " '1009.mat',\n",
       " '101.mat',\n",
       " '1010.mat',\n",
       " '1011.mat',\n",
       " '1012.mat',\n",
       " '1013.mat',\n",
       " '1014.mat',\n",
       " '1015.mat',\n",
       " '1016.mat',\n",
       " '1017.mat',\n",
       " '1018.mat',\n",
       " '1019.mat',\n",
       " '102.mat',\n",
       " '1020.mat',\n",
       " '1021.mat',\n",
       " '1022.mat',\n",
       " '1023.mat',\n",
       " '1024.mat',\n",
       " '1025.mat',\n",
       " '1026.mat',\n",
       " '1027.mat',\n",
       " '1028.mat',\n",
       " '1029.mat',\n",
       " '103.mat',\n",
       " '1030.mat',\n",
       " '1031.mat',\n",
       " '1032.mat',\n",
       " '1033.mat',\n",
       " '1034.mat',\n",
       " '1035.mat',\n",
       " '1036.mat',\n",
       " '1037.mat',\n",
       " '1038.mat',\n",
       " '1039.mat',\n",
       " '104.mat',\n",
       " '1040.mat',\n",
       " '1041.mat',\n",
       " '1042.mat',\n",
       " '1043.mat',\n",
       " '1044.mat',\n",
       " '1045.mat',\n",
       " '1046.mat',\n",
       " '1047.mat',\n",
       " '1048.mat',\n",
       " '1049.mat',\n",
       " '105.mat',\n",
       " '1050.mat',\n",
       " '1051.mat',\n",
       " '1052.mat',\n",
       " '1053.mat',\n",
       " '1054.mat',\n",
       " '1055.mat',\n",
       " '1056.mat',\n",
       " '1057.mat',\n",
       " '1058.mat',\n",
       " '1059.mat',\n",
       " '106.mat',\n",
       " '1060.mat',\n",
       " '1061.mat',\n",
       " '1062.mat',\n",
       " '1063.mat',\n",
       " '1064.mat',\n",
       " '1065.mat',\n",
       " '1066.mat',\n",
       " '1067.mat',\n",
       " '1068.mat',\n",
       " '1069.mat',\n",
       " '107.mat',\n",
       " '1070.mat',\n",
       " '1071.mat',\n",
       " '1072.mat',\n",
       " '1073.mat',\n",
       " '1074.mat',\n",
       " '1075.mat',\n",
       " '1076.mat',\n",
       " '1077.mat',\n",
       " '1078.mat',\n",
       " '1079.mat',\n",
       " '108.mat',\n",
       " '1080.mat',\n",
       " '1081.mat',\n",
       " '1082.mat',\n",
       " '1083.mat',\n",
       " '1084.mat',\n",
       " '1085.mat',\n",
       " '1086.mat',\n",
       " '1087.mat',\n",
       " '1088.mat',\n",
       " '1089.mat',\n",
       " '109.mat',\n",
       " '1090.mat',\n",
       " '1091.mat',\n",
       " '1092.mat',\n",
       " '1093.mat',\n",
       " '1094.mat',\n",
       " '1095.mat',\n",
       " '1096.mat',\n",
       " '1097.mat',\n",
       " '1098.mat',\n",
       " '1099.mat',\n",
       " '11.mat',\n",
       " '110.mat',\n",
       " '1100.mat',\n",
       " '1101.mat',\n",
       " '1102.mat',\n",
       " '1103.mat',\n",
       " '1104.mat',\n",
       " '1105.mat',\n",
       " '1106.mat',\n",
       " '1107.mat',\n",
       " '1108.mat',\n",
       " '1109.mat',\n",
       " '111.mat',\n",
       " '1110.mat',\n",
       " '1111.mat',\n",
       " '1112.mat',\n",
       " '1113.mat',\n",
       " '1114.mat',\n",
       " '1115.mat',\n",
       " '1116.mat',\n",
       " '1117.mat',\n",
       " '1118.mat',\n",
       " '1119.mat',\n",
       " '112.mat',\n",
       " '1120.mat',\n",
       " '1121.mat',\n",
       " '1122.mat',\n",
       " '1123.mat',\n",
       " '1124.mat',\n",
       " '1125.mat',\n",
       " '1126.mat',\n",
       " '1127.mat',\n",
       " '1128.mat',\n",
       " '1129.mat',\n",
       " '113.mat',\n",
       " '1130.mat',\n",
       " '1131.mat',\n",
       " '1132.mat',\n",
       " '1133.mat',\n",
       " '1134.mat',\n",
       " '1135.mat',\n",
       " '1136.mat',\n",
       " '1137.mat',\n",
       " '1138.mat',\n",
       " '1139.mat',\n",
       " '114.mat',\n",
       " '1140.mat',\n",
       " '1141.mat',\n",
       " '1142.mat',\n",
       " '1143.mat',\n",
       " '1144.mat',\n",
       " '1145.mat',\n",
       " '1146.mat',\n",
       " '1147.mat',\n",
       " '1148.mat',\n",
       " '1149.mat',\n",
       " '115.mat',\n",
       " '1150.mat',\n",
       " '1151.mat',\n",
       " '1152.mat',\n",
       " '1153.mat',\n",
       " '1154.mat',\n",
       " '1155.mat',\n",
       " '1156.mat',\n",
       " '1157.mat',\n",
       " '1158.mat',\n",
       " '1159.mat',\n",
       " '116.mat',\n",
       " '1160.mat',\n",
       " '1161.mat',\n",
       " '1162.mat',\n",
       " '1163.mat',\n",
       " '1164.mat',\n",
       " '1165.mat',\n",
       " '1166.mat',\n",
       " '1167.mat',\n",
       " '1168.mat',\n",
       " '1169.mat',\n",
       " '117.mat',\n",
       " '1170.mat',\n",
       " '1171.mat',\n",
       " '1172.mat',\n",
       " '1173.mat',\n",
       " '1174.mat',\n",
       " '1175.mat',\n",
       " '1176.mat',\n",
       " '1177.mat',\n",
       " '1178.mat',\n",
       " '1179.mat',\n",
       " '118.mat',\n",
       " '1180.mat',\n",
       " '1181.mat',\n",
       " '1182.mat',\n",
       " '1183.mat',\n",
       " '1184.mat',\n",
       " '1185.mat',\n",
       " '1186.mat',\n",
       " '1187.mat',\n",
       " '1188.mat',\n",
       " '1189.mat',\n",
       " '119.mat',\n",
       " '1190.mat',\n",
       " '1191.mat',\n",
       " '1192.mat',\n",
       " '1193.mat',\n",
       " '1194.mat',\n",
       " '1195.mat',\n",
       " '1196.mat',\n",
       " '1197.mat',\n",
       " '1198.mat',\n",
       " '1199.mat',\n",
       " '12.mat',\n",
       " '120.mat',\n",
       " '1200.mat',\n",
       " '1201.mat',\n",
       " '1202.mat',\n",
       " '1203.mat',\n",
       " '1204.mat',\n",
       " '1205.mat',\n",
       " '1206.mat',\n",
       " '1207.mat',\n",
       " '1208.mat',\n",
       " '1209.mat',\n",
       " '121.mat',\n",
       " '1210.mat',\n",
       " '1211.mat',\n",
       " '1212.mat',\n",
       " '1213.mat',\n",
       " '1214.mat',\n",
       " '1215.mat',\n",
       " '1216.mat',\n",
       " '1217.mat',\n",
       " '1218.mat',\n",
       " '1219.mat',\n",
       " '122.mat',\n",
       " '1220.mat',\n",
       " '1221.mat',\n",
       " '1222.mat',\n",
       " '1223.mat',\n",
       " '1224.mat',\n",
       " '1225.mat',\n",
       " '1226.mat',\n",
       " '1227.mat',\n",
       " '1228.mat',\n",
       " '1229.mat',\n",
       " '123.mat',\n",
       " '1230.mat',\n",
       " '1231.mat',\n",
       " '1232.mat',\n",
       " '1233.mat',\n",
       " '1234.mat',\n",
       " '1235.mat',\n",
       " '1236.mat',\n",
       " '1237.mat',\n",
       " '1238.mat',\n",
       " '1239.mat',\n",
       " '124.mat',\n",
       " '1240.mat',\n",
       " '1241.mat',\n",
       " '1242.mat',\n",
       " '1243.mat',\n",
       " '1244.mat',\n",
       " '1245.mat',\n",
       " '1246.mat',\n",
       " '1247.mat',\n",
       " '1248.mat',\n",
       " '1249.mat',\n",
       " '125.mat',\n",
       " '1250.mat',\n",
       " '1251.mat',\n",
       " '1252.mat',\n",
       " '1253.mat',\n",
       " '1254.mat',\n",
       " '1255.mat',\n",
       " '1256.mat',\n",
       " '1257.mat',\n",
       " '1258.mat',\n",
       " '1259.mat',\n",
       " '126.mat',\n",
       " '1260.mat',\n",
       " '1261.mat',\n",
       " '1262.mat',\n",
       " '1263.mat',\n",
       " '1264.mat',\n",
       " '1265.mat',\n",
       " '1266.mat',\n",
       " '1267.mat',\n",
       " '1268.mat',\n",
       " '1269.mat',\n",
       " '127.mat',\n",
       " '1270.mat',\n",
       " '1271.mat',\n",
       " '1272.mat',\n",
       " '1273.mat',\n",
       " '1274.mat',\n",
       " '1275.mat',\n",
       " '1276.mat',\n",
       " '1277.mat',\n",
       " '1278.mat',\n",
       " '1279.mat',\n",
       " '128.mat',\n",
       " '1280.mat',\n",
       " '1281.mat',\n",
       " '1282.mat',\n",
       " '1283.mat',\n",
       " '1284.mat',\n",
       " '1285.mat',\n",
       " '1286.mat',\n",
       " '1287.mat',\n",
       " '1288.mat',\n",
       " '1289.mat',\n",
       " '129.mat',\n",
       " '1290.mat',\n",
       " '1291.mat',\n",
       " '1292.mat',\n",
       " '1293.mat',\n",
       " '1294.mat',\n",
       " '1295.mat',\n",
       " '1296.mat',\n",
       " '1297.mat',\n",
       " '1298.mat',\n",
       " '1299.mat',\n",
       " '13.mat',\n",
       " '130.mat',\n",
       " '1300.mat',\n",
       " '1301.mat',\n",
       " '1302.mat',\n",
       " '1303.mat',\n",
       " '1304.mat',\n",
       " '1305.mat',\n",
       " '1306.mat',\n",
       " '1307.mat',\n",
       " '1308.mat',\n",
       " '1309.mat',\n",
       " '131.mat',\n",
       " '1310.mat',\n",
       " '1311.mat',\n",
       " '1312.mat',\n",
       " '1313.mat',\n",
       " '1314.mat',\n",
       " '1315.mat',\n",
       " '1316.mat',\n",
       " '1317.mat',\n",
       " '1318.mat',\n",
       " '1319.mat',\n",
       " '132.mat',\n",
       " '1320.mat',\n",
       " '1321.mat',\n",
       " '1322.mat',\n",
       " '1323.mat',\n",
       " '1324.mat',\n",
       " '1325.mat',\n",
       " '1326.mat',\n",
       " '1327.mat',\n",
       " '1328.mat',\n",
       " '1329.mat',\n",
       " '133.mat',\n",
       " '1330.mat',\n",
       " '1331.mat',\n",
       " '1332.mat',\n",
       " '1333.mat',\n",
       " '1334.mat',\n",
       " '1335.mat',\n",
       " '1336.mat',\n",
       " '1337.mat',\n",
       " '1338.mat',\n",
       " '1339.mat',\n",
       " '134.mat',\n",
       " '1340.mat',\n",
       " '1341.mat',\n",
       " '1342.mat',\n",
       " '1343.mat',\n",
       " '1344.mat',\n",
       " '1345.mat',\n",
       " '1346.mat',\n",
       " '1347.mat',\n",
       " '1348.mat',\n",
       " '1349.mat',\n",
       " '135.mat',\n",
       " '1350.mat',\n",
       " '1351.mat',\n",
       " '1352.mat',\n",
       " '1353.mat',\n",
       " '1354.mat',\n",
       " '1355.mat',\n",
       " '1356.mat',\n",
       " '1357.mat',\n",
       " '1358.mat',\n",
       " '1359.mat',\n",
       " '136.mat',\n",
       " '1360.mat',\n",
       " '1361.mat',\n",
       " '1362.mat',\n",
       " '1363.mat',\n",
       " '1364.mat',\n",
       " '1365.mat',\n",
       " '1366.mat',\n",
       " '1367.mat',\n",
       " '1368.mat',\n",
       " '1369.mat',\n",
       " '137.mat',\n",
       " '1370.mat',\n",
       " '1371.mat',\n",
       " '1372.mat',\n",
       " '1373.mat',\n",
       " '1374.mat',\n",
       " '1375.mat',\n",
       " '1376.mat',\n",
       " '1377.mat',\n",
       " '1378.mat',\n",
       " '1379.mat',\n",
       " '138.mat',\n",
       " '1380.mat',\n",
       " '1381.mat',\n",
       " '1382.mat',\n",
       " '1383.mat',\n",
       " '1384.mat',\n",
       " '1385.mat',\n",
       " '1386.mat',\n",
       " '1387.mat',\n",
       " '1388.mat',\n",
       " '1389.mat',\n",
       " '139.mat',\n",
       " '1390.mat',\n",
       " '1391.mat',\n",
       " '1392.mat',\n",
       " '1393.mat',\n",
       " '1394.mat',\n",
       " '1395.mat',\n",
       " '1396.mat',\n",
       " '1397.mat',\n",
       " '1398.mat',\n",
       " '1399.mat',\n",
       " '14.mat',\n",
       " '140.mat',\n",
       " '1400.mat',\n",
       " '1401.mat',\n",
       " '1402.mat',\n",
       " '1403.mat',\n",
       " '1404.mat',\n",
       " '1405.mat',\n",
       " '1406.mat',\n",
       " '1407.mat',\n",
       " '1408.mat',\n",
       " '1409.mat',\n",
       " '141.mat',\n",
       " '1410.mat',\n",
       " '1411.mat',\n",
       " '1412.mat',\n",
       " '1413.mat',\n",
       " '1414.mat',\n",
       " '1415.mat',\n",
       " '1416.mat',\n",
       " '1417.mat',\n",
       " '1418.mat',\n",
       " '1419.mat',\n",
       " '142.mat',\n",
       " '1420.mat',\n",
       " '1421.mat',\n",
       " '1422.mat',\n",
       " '1423.mat',\n",
       " '1424.mat',\n",
       " '1425.mat',\n",
       " '1426.mat',\n",
       " '1427.mat',\n",
       " '1428.mat',\n",
       " '1429.mat',\n",
       " '143.mat',\n",
       " '1430.mat',\n",
       " '1431.mat',\n",
       " '1432.mat',\n",
       " '1433.mat',\n",
       " '1434.mat',\n",
       " '1435.mat',\n",
       " '1436.mat',\n",
       " '1437.mat',\n",
       " '1438.mat',\n",
       " '1439.mat',\n",
       " '144.mat',\n",
       " '1440.mat',\n",
       " '1441.mat',\n",
       " '1442.mat',\n",
       " '1443.mat',\n",
       " '1444.mat',\n",
       " '1445.mat',\n",
       " '1446.mat',\n",
       " '1447.mat',\n",
       " '1448.mat',\n",
       " '1449.mat',\n",
       " '145.mat',\n",
       " '1450.mat',\n",
       " '1451.mat',\n",
       " '1452.mat',\n",
       " '1453.mat',\n",
       " '1454.mat',\n",
       " '1455.mat',\n",
       " '1456.mat',\n",
       " '1457.mat',\n",
       " '1458.mat',\n",
       " '1459.mat',\n",
       " '146.mat',\n",
       " '1460.mat',\n",
       " '1461.mat',\n",
       " '1462.mat',\n",
       " '1463.mat',\n",
       " '1464.mat',\n",
       " '1465.mat',\n",
       " '1466.mat',\n",
       " '1467.mat',\n",
       " '1468.mat',\n",
       " '1469.mat',\n",
       " '147.mat',\n",
       " '1470.mat',\n",
       " '1471.mat',\n",
       " '1472.mat',\n",
       " '1473.mat',\n",
       " '1474.mat',\n",
       " '1475.mat',\n",
       " '1476.mat',\n",
       " '1477.mat',\n",
       " '1478.mat',\n",
       " '1479.mat',\n",
       " '148.mat',\n",
       " '1480.mat',\n",
       " '1481.mat',\n",
       " '1482.mat',\n",
       " '1483.mat',\n",
       " '1484.mat',\n",
       " '1485.mat',\n",
       " '1486.mat',\n",
       " '1487.mat',\n",
       " '1488.mat',\n",
       " '1489.mat',\n",
       " '149.mat',\n",
       " '1490.mat',\n",
       " '1491.mat',\n",
       " '1492.mat',\n",
       " '1493.mat',\n",
       " '1494.mat',\n",
       " '1495.mat',\n",
       " '1496.mat',\n",
       " '1497.mat',\n",
       " '1498.mat',\n",
       " '1499.mat',\n",
       " '15.mat',\n",
       " '150.mat',\n",
       " '1500.mat',\n",
       " '1501.mat',\n",
       " '1502.mat',\n",
       " '1503.mat',\n",
       " '1504.mat',\n",
       " '1505.mat',\n",
       " '1506.mat',\n",
       " '1507.mat',\n",
       " '1508.mat',\n",
       " '1509.mat',\n",
       " '151.mat',\n",
       " '1510.mat',\n",
       " '1511.mat',\n",
       " '1512.mat',\n",
       " '1513.mat',\n",
       " '1514.mat',\n",
       " '1515.mat',\n",
       " '1516.mat',\n",
       " '1517.mat',\n",
       " '1518.mat',\n",
       " '1519.mat',\n",
       " '152.mat',\n",
       " '1520.mat',\n",
       " '1521.mat',\n",
       " '1522.mat',\n",
       " '1523.mat',\n",
       " '1524.mat',\n",
       " '1525.mat',\n",
       " '1526.mat',\n",
       " '1527.mat',\n",
       " '1528.mat',\n",
       " '1529.mat',\n",
       " '153.mat',\n",
       " '1530.mat',\n",
       " '1531.mat',\n",
       " '1532.mat',\n",
       " '1533.mat',\n",
       " '1534.mat',\n",
       " '1535.mat',\n",
       " '1536.mat',\n",
       " '1537.mat',\n",
       " '1538.mat',\n",
       " '1539.mat',\n",
       " '154.mat',\n",
       " '1540.mat',\n",
       " '1541.mat',\n",
       " '1542.mat',\n",
       " '1543.mat',\n",
       " '1544.mat',\n",
       " '1545.mat',\n",
       " '1546.mat',\n",
       " '1547.mat',\n",
       " '1548.mat',\n",
       " '1549.mat',\n",
       " '155.mat',\n",
       " '1550.mat',\n",
       " '1551.mat',\n",
       " '1552.mat',\n",
       " '1553.mat',\n",
       " '1554.mat',\n",
       " '1555.mat',\n",
       " '1556.mat',\n",
       " '1557.mat',\n",
       " '1558.mat',\n",
       " '1559.mat',\n",
       " '156.mat',\n",
       " '1560.mat',\n",
       " '1561.mat',\n",
       " '1562.mat',\n",
       " '1563.mat',\n",
       " '1564.mat',\n",
       " '1565.mat',\n",
       " '1566.mat',\n",
       " '1567.mat',\n",
       " '1568.mat',\n",
       " '1569.mat',\n",
       " '157.mat',\n",
       " '1570.mat',\n",
       " '1571.mat',\n",
       " '1572.mat',\n",
       " '1573.mat',\n",
       " '1574.mat',\n",
       " '1575.mat',\n",
       " '1576.mat',\n",
       " '1577.mat',\n",
       " '1578.mat',\n",
       " '1579.mat',\n",
       " '158.mat',\n",
       " '1580.mat',\n",
       " '1581.mat',\n",
       " '1582.mat',\n",
       " '1583.mat',\n",
       " '1584.mat',\n",
       " '1585.mat',\n",
       " '1586.mat',\n",
       " '1587.mat',\n",
       " '1588.mat',\n",
       " '1589.mat',\n",
       " '159.mat',\n",
       " '1590.mat',\n",
       " '1591.mat',\n",
       " '1592.mat',\n",
       " '1593.mat',\n",
       " '1594.mat',\n",
       " '1595.mat',\n",
       " '1596.mat',\n",
       " '1597.mat',\n",
       " '1598.mat',\n",
       " '1599.mat',\n",
       " '16.mat',\n",
       " '160.mat',\n",
       " '1600.mat',\n",
       " '1601.mat',\n",
       " '1602.mat',\n",
       " '1603.mat',\n",
       " '1604.mat',\n",
       " '1605.mat',\n",
       " '1606.mat',\n",
       " '1607.mat',\n",
       " '1608.mat',\n",
       " '1609.mat',\n",
       " '161.mat',\n",
       " '1610.mat',\n",
       " '1611.mat',\n",
       " '1612.mat',\n",
       " '1613.mat',\n",
       " '1614.mat',\n",
       " '1615.mat',\n",
       " '1616.mat',\n",
       " '1617.mat',\n",
       " '1618.mat',\n",
       " '1619.mat',\n",
       " '162.mat',\n",
       " '1620.mat',\n",
       " '1621.mat',\n",
       " '1622.mat',\n",
       " '1623.mat',\n",
       " '1624.mat',\n",
       " '1625.mat',\n",
       " '1626.mat',\n",
       " '1627.mat',\n",
       " '1628.mat',\n",
       " '1629.mat',\n",
       " '163.mat',\n",
       " '1630.mat',\n",
       " '1631.mat',\n",
       " '1632.mat',\n",
       " '1633.mat',\n",
       " '1634.mat',\n",
       " '1635.mat',\n",
       " '1636.mat',\n",
       " '1637.mat',\n",
       " '1638.mat',\n",
       " '1639.mat',\n",
       " '164.mat',\n",
       " '1640.mat',\n",
       " '1641.mat',\n",
       " '1642.mat',\n",
       " '1643.mat',\n",
       " '1644.mat',\n",
       " '1645.mat',\n",
       " '1646.mat',\n",
       " '1647.mat',\n",
       " '1648.mat',\n",
       " '1649.mat',\n",
       " '165.mat',\n",
       " '1650.mat',\n",
       " '1651.mat',\n",
       " '1652.mat',\n",
       " '1653.mat',\n",
       " '1654.mat',\n",
       " '1655.mat',\n",
       " '1656.mat',\n",
       " '1657.mat',\n",
       " '1658.mat',\n",
       " '1659.mat',\n",
       " '166.mat',\n",
       " '1660.mat',\n",
       " '1661.mat',\n",
       " '1662.mat',\n",
       " '1663.mat',\n",
       " '1664.mat',\n",
       " '1665.mat',\n",
       " '1666.mat',\n",
       " '1667.mat',\n",
       " '1668.mat',\n",
       " '1669.mat',\n",
       " '167.mat',\n",
       " '1670.mat',\n",
       " '1671.mat',\n",
       " '1672.mat',\n",
       " '1673.mat',\n",
       " '1674.mat',\n",
       " '1675.mat',\n",
       " '1676.mat',\n",
       " '1677.mat',\n",
       " '1678.mat',\n",
       " '1679.mat',\n",
       " '168.mat',\n",
       " '1680.mat',\n",
       " '1681.mat',\n",
       " '1682.mat',\n",
       " '1683.mat',\n",
       " '1684.mat',\n",
       " '1685.mat',\n",
       " '1686.mat',\n",
       " '1687.mat',\n",
       " '1688.mat',\n",
       " '1689.mat',\n",
       " '169.mat',\n",
       " '1690.mat',\n",
       " '1691.mat',\n",
       " '1692.mat',\n",
       " '1693.mat',\n",
       " '1694.mat',\n",
       " '1695.mat',\n",
       " '1696.mat',\n",
       " '1697.mat',\n",
       " '1698.mat',\n",
       " '1699.mat',\n",
       " '17.mat',\n",
       " '170.mat',\n",
       " '1700.mat',\n",
       " '1701.mat',\n",
       " '1702.mat',\n",
       " '1703.mat',\n",
       " '1704.mat',\n",
       " '1705.mat',\n",
       " '1706.mat',\n",
       " '1707.mat',\n",
       " '1708.mat',\n",
       " '1709.mat',\n",
       " '171.mat',\n",
       " '1710.mat',\n",
       " '1711.mat',\n",
       " '1712.mat',\n",
       " '1713.mat',\n",
       " '1714.mat',\n",
       " '1715.mat',\n",
       " '1716.mat',\n",
       " '1717.mat',\n",
       " '1718.mat',\n",
       " '1719.mat',\n",
       " '172.mat',\n",
       " '1720.mat',\n",
       " '1721.mat',\n",
       " '1722.mat',\n",
       " '1723.mat',\n",
       " '1724.mat',\n",
       " '1725.mat',\n",
       " '1726.mat',\n",
       " '1727.mat',\n",
       " '1728.mat',\n",
       " '1729.mat',\n",
       " '173.mat',\n",
       " '1730.mat',\n",
       " '1731.mat',\n",
       " '1732.mat',\n",
       " '1733.mat',\n",
       " '1734.mat',\n",
       " '1735.mat',\n",
       " '1736.mat',\n",
       " '1737.mat',\n",
       " '1738.mat',\n",
       " '1739.mat',\n",
       " '174.mat',\n",
       " '1740.mat',\n",
       " '1741.mat',\n",
       " '1742.mat',\n",
       " '1743.mat',\n",
       " '1744.mat',\n",
       " '1745.mat',\n",
       " '1746.mat',\n",
       " '1747.mat',\n",
       " '1748.mat',\n",
       " '1749.mat',\n",
       " '175.mat',\n",
       " '1750.mat',\n",
       " '1751.mat',\n",
       " '1752.mat',\n",
       " '1753.mat',\n",
       " '1754.mat',\n",
       " '1755.mat',\n",
       " '1756.mat',\n",
       " '1757.mat',\n",
       " '1758.mat',\n",
       " '1759.mat',\n",
       " '176.mat',\n",
       " '1760.mat',\n",
       " '1761.mat',\n",
       " '1762.mat',\n",
       " '1763.mat',\n",
       " '1764.mat',\n",
       " '1765.mat',\n",
       " '1766.mat',\n",
       " '1767.mat',\n",
       " '1768.mat',\n",
       " '1769.mat',\n",
       " '177.mat',\n",
       " '1770.mat',\n",
       " '1771.mat',\n",
       " '1772.mat',\n",
       " '1773.mat',\n",
       " '1774.mat',\n",
       " '1775.mat',\n",
       " '1776.mat',\n",
       " '1777.mat',\n",
       " '1778.mat',\n",
       " '1779.mat',\n",
       " '178.mat',\n",
       " '1780.mat',\n",
       " '1781.mat',\n",
       " '1782.mat',\n",
       " '1783.mat',\n",
       " '1784.mat',\n",
       " '1785.mat',\n",
       " '1786.mat',\n",
       " '1787.mat',\n",
       " '1788.mat',\n",
       " '1789.mat',\n",
       " '179.mat',\n",
       " '1790.mat',\n",
       " '1791.mat',\n",
       " '1792.mat',\n",
       " '1793.mat',\n",
       " '1794.mat',\n",
       " '1795.mat',\n",
       " '1796.mat',\n",
       " '1797.mat',\n",
       " '1798.mat',\n",
       " '1799.mat',\n",
       " '18.mat',\n",
       " '180.mat',\n",
       " '1800.mat',\n",
       " '1801.mat',\n",
       " '1802.mat',\n",
       " '1803.mat',\n",
       " '1804.mat',\n",
       " '1805.mat',\n",
       " '1806.mat',\n",
       " '1807.mat',\n",
       " '1808.mat',\n",
       " '1809.mat',\n",
       " '181.mat',\n",
       " '1810.mat',\n",
       " '1811.mat',\n",
       " '1812.mat',\n",
       " '1813.mat',\n",
       " '1814.mat',\n",
       " '1815.mat',\n",
       " '1816.mat',\n",
       " '1817.mat',\n",
       " '1818.mat',\n",
       " '1819.mat',\n",
       " '182.mat',\n",
       " '1820.mat',\n",
       " '1821.mat',\n",
       " '1822.mat',\n",
       " '1823.mat',\n",
       " '1824.mat',\n",
       " '1825.mat',\n",
       " '1826.mat',\n",
       " '1827.mat',\n",
       " '1828.mat',\n",
       " '1829.mat',\n",
       " '183.mat',\n",
       " '1830.mat',\n",
       " '1831.mat',\n",
       " '1832.mat',\n",
       " '1833.mat',\n",
       " '1834.mat',\n",
       " '1835.mat',\n",
       " '1836.mat',\n",
       " '1837.mat',\n",
       " '1838.mat',\n",
       " '1839.mat',\n",
       " '184.mat',\n",
       " '1840.mat',\n",
       " '1841.mat',\n",
       " '1842.mat',\n",
       " '1843.mat',\n",
       " '1844.mat',\n",
       " '1845.mat',\n",
       " '1846.mat',\n",
       " '1847.mat',\n",
       " '1848.mat',\n",
       " '1849.mat',\n",
       " '185.mat',\n",
       " '1850.mat',\n",
       " '1851.mat',\n",
       " '1852.mat',\n",
       " '1853.mat',\n",
       " '1854.mat',\n",
       " '1855.mat',\n",
       " '1856.mat',\n",
       " '1857.mat',\n",
       " '1858.mat',\n",
       " '1859.mat',\n",
       " '186.mat',\n",
       " '1860.mat',\n",
       " '1861.mat',\n",
       " '1862.mat',\n",
       " '1863.mat',\n",
       " '1864.mat',\n",
       " '1865.mat',\n",
       " '1866.mat',\n",
       " '1867.mat',\n",
       " '1868.mat',\n",
       " '1869.mat',\n",
       " '187.mat',\n",
       " '1870.mat',\n",
       " '1871.mat',\n",
       " '1872.mat',\n",
       " '1873.mat',\n",
       " '1874.mat',\n",
       " '1875.mat',\n",
       " '1876.mat',\n",
       " '1877.mat',\n",
       " '1878.mat',\n",
       " '1879.mat',\n",
       " '188.mat',\n",
       " '1880.mat',\n",
       " '1881.mat',\n",
       " '1882.mat',\n",
       " '1883.mat',\n",
       " '1884.mat',\n",
       " '1885.mat',\n",
       " '1886.mat',\n",
       " '1887.mat',\n",
       " '1888.mat',\n",
       " '1889.mat',\n",
       " '189.mat',\n",
       " '1890.mat',\n",
       " '1891.mat',\n",
       " '1892.mat',\n",
       " '1893.mat',\n",
       " '1894.mat',\n",
       " '1895.mat',\n",
       " '1896.mat',\n",
       " '1897.mat',\n",
       " '1898.mat',\n",
       " ...]"
      ]
     },
     "execution_count": 50,
     "metadata": {},
     "output_type": "execute_result"
    }
   ],
   "source": [
    "sorted(os.listdir(r'C:\\Users\\marto\\Desktop\\Szakdolgozat\\pogram\\brainTumor\\data'))"
   ]
  },
  {
   "cell_type": "code",
   "execution_count": 51,
   "id": "3df38fd6-7b20-4836-81af-903829643397",
   "metadata": {},
   "outputs": [
    {
     "data": {
      "text/plain": [
       "0"
      ]
     },
     "execution_count": 51,
     "metadata": {},
     "output_type": "execute_result"
    }
   ],
   "source": [
    "y[0]"
   ]
  },
  {
   "cell_type": "code",
   "execution_count": 52,
   "id": "cc0f0dff-a15c-4a7e-99da-8545462734a2",
   "metadata": {},
   "outputs": [
    {
     "data": {
      "text/plain": [
       "2"
      ]
     },
     "execution_count": 52,
     "metadata": {},
     "output_type": "execute_result"
    }
   ],
   "source": [
    "y[9]"
   ]
  },
  {
   "cell_type": "code",
   "execution_count": 53,
   "id": "6c89bc78-b937-4052-81ff-5ca9f6aa1f30",
   "metadata": {},
   "outputs": [
    {
     "data": {
      "text/plain": [
       "2"
      ]
     },
     "execution_count": 53,
     "metadata": {},
     "output_type": "execute_result"
    }
   ],
   "source": [
    "y[99]"
   ]
  },
  {
   "cell_type": "code",
   "execution_count": 54,
   "id": "9947633f-c5fd-4254-98f8-13d941b5fc52",
   "metadata": {},
   "outputs": [
    {
     "data": {
      "text/plain": [
       "1"
      ]
     },
     "execution_count": 54,
     "metadata": {},
     "output_type": "execute_result"
    }
   ],
   "source": [
    "y[999]"
   ]
  },
  {
   "cell_type": "code",
   "execution_count": null,
   "id": "7979b93c-6b2e-427b-bdbe-197ec233df92",
   "metadata": {},
   "outputs": [],
   "source": []
  }
 ],
 "metadata": {
  "kernelspec": {
   "display_name": "Python [conda env:base] *",
   "language": "python",
   "name": "conda-base-py"
  },
  "language_info": {
   "codemirror_mode": {
    "name": "ipython",
    "version": 3
   },
   "file_extension": ".py",
   "mimetype": "text/x-python",
   "name": "python",
   "nbconvert_exporter": "python",
   "pygments_lexer": "ipython3",
   "version": "3.12.7"
  }
 },
 "nbformat": 4,
 "nbformat_minor": 5
}
