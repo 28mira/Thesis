{
 "cells": [
  {
   "cell_type": "code",
   "execution_count": 1,
   "id": "f77e1417-ca94-4325-bc24-959cc721ad66",
   "metadata": {},
   "outputs": [
    {
     "name": "stdout",
     "output_type": "stream",
     "text": [
      "Num GPUs Available:  0\n"
     ]
    }
   ],
   "source": [
    "import pandas as pd\n",
    "import numpy as np\n",
    "import os\n",
    "import cv2\n",
    "import csv\n",
    "import scipy.io\n",
    "import numpy as np\n",
    "import matplotlib.pyplot as plt\n",
    "import pandas as pd\n",
    "from PIL import Image\n",
    "import h5py\n",
    "from torchvision import transforms\n",
    "import tensorflow as tf\n",
    "from tensorflow.keras import layers, models\n",
    "import tensorflow as tf\n",
    "print(\"Num GPUs Available: \", len(tf.config.list_physical_devices('GPU')))"
   ]
  },
  {
   "cell_type": "code",
   "execution_count": 2,
   "id": "53bf6d52-d27b-4b2d-abc8-1357f981cfb3",
   "metadata": {},
   "outputs": [],
   "source": [
    "def imageGenerator():\n",
    "    input_folder = r'C:\\Users\\marto\\Desktop\\Szakdolgozat\\pogram\\brainTumor\\data'\n",
    "    output_folder = r'C:\\Users\\marto\\Desktop\\Szakdolgozat\\pogram\\brainTumor\\converted_data'\n",
    "    datas = []\n",
    "    img_size = (128,128)\n",
    "    for file_name in os.listdir(input_folder):\n",
    "        if file_name.endswith('.mat'):\n",
    "            file_path = os.path.join(input_folder,file_name)\n",
    "            \n",
    "            with h5py.File(file_path, 'r') as f:\n",
    "                image = np.array(f['cjdata/image']).T\n",
    "                label = int(np.array(f['cjdata/label'])[0,0])\n",
    "                tumor_border = np.array(f['cjdata/tumorBorder']).T\n",
    "                tumor_mask = np.array(f['cjdata/tumorMask']).T\n",
    "    \n",
    "            image = image.astype(np.float64)\n",
    "            im_norm = 255*(image-image.min())/(image.max()-image.min())\n",
    "            im_uint8 = im_norm.astype(np.uint8)\n",
    "            im_pil = Image.fromarray(im_uint8)\n",
    "            im_pil = im_pil.resize(img_size)\n",
    "\n",
    "            tumorMask = tumor_mask.astype(np.float64)\n",
    "            tm_norm = 255*(tumor_mask-tumor_mask.min())/(tumor_mask.max()-tumor_mask.min())\n",
    "            tm_uint8 = tm_norm.astype(np.uint8)\n",
    "            tm_pil = Image.fromarray(tm_uint8)\n",
    "            tm_pil = tm_pil.resize(img_size)\n",
    "            \n",
    "            datas.append((np.array(im_pil,dtype=np.float32),np.array(tm_pil,dtype=np.float32)))\n",
    "\n",
    "\n",
    "    return datas"
   ]
  },
  {
   "cell_type": "code",
   "execution_count": 3,
   "id": "a452062b-ea74-4beb-a673-4b39beb6a350",
   "metadata": {},
   "outputs": [
    {
     "ename": "FileNotFoundError",
     "evalue": "[WinError 3] A rendszer nem találja a megadott elérési utat: '\\\\data'",
     "output_type": "error",
     "traceback": [
      "\u001b[1;31m---------------------------------------------------------------------------\u001b[0m",
      "\u001b[1;31mFileNotFoundError\u001b[0m                         Traceback (most recent call last)",
      "Cell \u001b[1;32mIn[3], line 2\u001b[0m\n\u001b[0;32m      1\u001b[0m \u001b[38;5;28;01mtry\u001b[39;00m:\n\u001b[1;32m----> 2\u001b[0m     datas \u001b[38;5;241m=\u001b[39m imageGenerator()\n\u001b[0;32m      3\u001b[0m \u001b[38;5;28;01mexcept\u001b[39;00m \u001b[38;5;167;01mValueError\u001b[39;00m:\n\u001b[0;32m      4\u001b[0m     \u001b[38;5;28mprint\u001b[39m(\u001b[38;5;124m'\u001b[39m\u001b[38;5;124mHibás érték\u001b[39m\u001b[38;5;124m'\u001b[39m)\n",
      "Cell \u001b[1;32mIn[2], line 6\u001b[0m, in \u001b[0;36mimageGenerator\u001b[1;34m()\u001b[0m\n\u001b[0;32m      4\u001b[0m datas \u001b[38;5;241m=\u001b[39m []\n\u001b[0;32m      5\u001b[0m img_size \u001b[38;5;241m=\u001b[39m (\u001b[38;5;241m128\u001b[39m,\u001b[38;5;241m128\u001b[39m)\n\u001b[1;32m----> 6\u001b[0m \u001b[38;5;28;01mfor\u001b[39;00m file_name \u001b[38;5;129;01min\u001b[39;00m os\u001b[38;5;241m.\u001b[39mlistdir(input_folder):\n\u001b[0;32m      7\u001b[0m     \u001b[38;5;28;01mif\u001b[39;00m file_name\u001b[38;5;241m.\u001b[39mendswith(\u001b[38;5;124m'\u001b[39m\u001b[38;5;124m.mat\u001b[39m\u001b[38;5;124m'\u001b[39m):\n\u001b[0;32m      8\u001b[0m         file_path \u001b[38;5;241m=\u001b[39m os\u001b[38;5;241m.\u001b[39mpath\u001b[38;5;241m.\u001b[39mjoin(input_folder,file_name)\n",
      "\u001b[1;31mFileNotFoundError\u001b[0m: [WinError 3] A rendszer nem találja a megadott elérési utat: '\\\\data'"
     ]
    }
   ],
   "source": [
    "try:\n",
    "    datas = imageGenerator()\n",
    "except ValueError:\n",
    "    print('Hibás érték')"
   ]
  },
  {
   "cell_type": "code",
   "execution_count": null,
   "id": "045a6fb6-f944-411d-80bd-19d8da889e57",
   "metadata": {},
   "outputs": [],
   "source": [
    "#datas[0][2] - [sor][oszlop]"
   ]
  },
  {
   "cell_type": "code",
   "execution_count": null,
   "id": "54edc4d7-93a9-48a8-918b-ba405c402576",
   "metadata": {},
   "outputs": [],
   "source": [
    "labels = [ 'Nothing', 'meningioma', 'glioma', 'pituitary tumor']"
   ]
  },
  {
   "cell_type": "code",
   "execution_count": null,
   "id": "1299eb15-830e-4d73-81c6-12c420b0817a",
   "metadata": {},
   "outputs": [],
   "source": [
    "images = [item[0] for item in datas]\n",
    "tumorMask = [item[1] for item in datas]"
   ]
  },
  {
   "cell_type": "code",
   "execution_count": null,
   "id": "ecdd2b55-a6ba-429c-ac1b-78833fd43659",
   "metadata": {},
   "outputs": [],
   "source": [
    "from sklearn.model_selection import train_test_split\n",
    "i_train, i_test, tm_train, tm_test = train_test_split(images, tumorMask, test_size=0.2, random_state=42)"
   ]
  },
  {
   "cell_type": "code",
   "execution_count": null,
   "id": "82681863-69f7-42f7-b548-e9b2b250004c",
   "metadata": {},
   "outputs": [],
   "source": [
    "def double_conv_block(x, n_filters):\n",
    "    x = layers.Conv2D(n_filters, 3, padding='same', activation='relu', kernel_initializer='he_normal')(x)\n",
    "    x = layers.Conv2D(n_filters, 3, padding='same', activation='relu', kernel_initializer='he_normal')(x)\n",
    "    return x\n",
    "\n",
    "def downsample_block(x, n_filters):\n",
    "    f = double_conv_block(x, n_filters)\n",
    "    p = layers.MaxPool2D(2)(f)\n",
    "    p = layers.Dropout(0.3)(p)\n",
    "    return f, p\n",
    "\n",
    "def upsample_block(x, conv_features, n_filters):\n",
    "    x = layers.Conv2DTranspose(n_filters, 3, 2, padding='same')(x)\n",
    "    x = layers.concatenate([x, conv_features])\n",
    "    x = layers.Dropout(0.3)(x)\n",
    "    x = double_conv_block(x, n_filters)\n",
    "    return x"
   ]
  },
  {
   "cell_type": "code",
   "execution_count": null,
   "id": "f2fff86b-6bb9-40be-8b4e-e4e237ebc926",
   "metadata": {},
   "outputs": [],
   "source": [
    "def unet_model(output_channels):\n",
    "    inputs = layers.Input(shape=(128, 128, 1))\n",
    "    \n",
    "    f1, p1 = downsample_block(inputs, 64)\n",
    "    f2, p2 = downsample_block(p1, 128)\n",
    "    f3, p3 = downsample_block(p2, 256)\n",
    "    f4, p4 = downsample_block(p3, 512)\n",
    "    \n",
    "    intermediate_block = double_conv_block(p4, 1024)\n",
    "\n",
    "    u6 = upsample_block(intermediate_block, f4, 512)\n",
    "    u7 = upsample_block(u6, f3, 256)\n",
    "    u8 = upsample_block(u7, f2, 128)\n",
    "    u9 = upsample_block(u8, f1, 64)\n",
    "    \n",
    "    outputs = layers.Conv2D(output_channels, 256, padding='same', activation='softmax')(u9)\n",
    "    unet_model = tf.keras.Model(inputs, outputs, name='U-Net')\n",
    "    \n",
    "    return unet_model"
   ]
  },
  {
   "cell_type": "code",
   "execution_count": null,
   "id": "0e89172a-6002-425a-b2e5-630ae48080bb",
   "metadata": {},
   "outputs": [],
   "source": [
    "output_channels = 256\n",
    "model = unet_model(output_channels)\n",
    "model.compile(optimizer='adam', loss='sparse_categorical_crossentropy', metrics=['accuracy'])"
   ]
  },
  {
   "cell_type": "code",
   "execution_count": null,
   "id": "3e0a4f49-853c-4916-ad1a-99cba5264674",
   "metadata": {},
   "outputs": [],
   "source": []
  },
  {
   "cell_type": "code",
   "execution_count": null,
   "id": "c2c90603-2cd1-4c22-9ab1-0713e865dd54",
   "metadata": {},
   "outputs": [],
   "source": [
    "i_train = np.array(i_train,dtype=np.uint8)\n",
    "i_test = np.array(i_test,dtype=np.uint8)\n",
    "tm_train = np.array(tm_train,dtype=np.uint8)\n",
    "tm_test = np.array(tm_test,dtype=np.uint8)"
   ]
  },
  {
   "cell_type": "code",
   "execution_count": null,
   "id": "e0e2d3f5-9863-4d78-846d-f22514ccf320",
   "metadata": {},
   "outputs": [],
   "source": [
    "EPOCHS = 6\n",
    "history = model.fit(i_train,tm_train,batch_size=8, epochs=6, validation_data=(i_test,tm_test))"
   ]
  },
  {
   "cell_type": "code",
   "execution_count": null,
   "id": "b2e23abe-29ed-4261-9f65-493daae82fa5",
   "metadata": {},
   "outputs": [],
   "source": [
    "#print(np.unique(tm_train))"
   ]
  },
  {
   "cell_type": "code",
   "execution_count": null,
   "id": "bdea1716-fa57-4eb0-8fa0-db047155a262",
   "metadata": {},
   "outputs": [],
   "source": [
    "#x_train = np.expand_dims(X_train, axis=-1)\n",
    "#tm_train = np.expand_dims(X_train, axis=-1)"
   ]
  },
  {
   "cell_type": "code",
   "execution_count": null,
   "id": "29f46473-9db0-46fe-ba2e-145e6b8b415d",
   "metadata": {},
   "outputs": [],
   "source": [
    "#tm_train[0]"
   ]
  },
  {
   "cell_type": "code",
   "execution_count": null,
   "id": "920827c2-5fb4-445e-b79e-cd664af104af",
   "metadata": {},
   "outputs": [],
   "source": [
    " "
   ]
  },
  {
   "cell_type": "code",
   "execution_count": null,
   "id": "e91ac8b0-e0df-46ea-9d27-a5056306e9ef",
   "metadata": {},
   "outputs": [],
   "source": []
  }
 ],
 "metadata": {
  "kernelspec": {
   "display_name": "Python [conda env:base] *",
   "language": "python",
   "name": "conda-base-py"
  },
  "language_info": {
   "codemirror_mode": {
    "name": "ipython",
    "version": 3
   },
   "file_extension": ".py",
   "mimetype": "text/x-python",
   "name": "python",
   "nbconvert_exporter": "python",
   "pygments_lexer": "ipython3",
   "version": "3.12.7"
  }
 },
 "nbformat": 4,
 "nbformat_minor": 5
}
