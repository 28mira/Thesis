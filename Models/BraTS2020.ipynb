{
 "cells": [
  {
   "cell_type": "code",
   "execution_count": 3,
   "id": "daeae2bd-3e9f-49fa-93e1-8ff47c43085e",
   "metadata": {},
   "outputs": [],
   "source": [
    "import numpy as np\n",
    "import pandas as pd\n",
    "import tensorflow as tf\n",
    "import monai"
   ]
  },
  {
   "cell_type": "code",
   "execution_count": 5,
   "id": "719bc202-1a51-4a58-aba0-158b15ecb614",
   "metadata": {},
   "outputs": [],
   "source": [
    "# load:\n",
    "# monai.apps.download_url(url, filepath='', hash_val=None, hash_type='md5', progress=True, **gdown_kwargs)\n",
    "# or\n",
    "# monai.apps.extractall(filepath, output_dir='.', hash_val=None, hash_type='md5', file_type='', has_base=True)\n",
    "\n",
    "# create dataset:\n",
    "# monai.apps.deepgrow.dataset.create_dataset(datalist, output_dir, dimension, pixdim, image_key='image', label_key='label', base_dir=None, limit=0, relative_path=False, transforms=None)"
   ]
  },
  {
   "cell_type": "code",
   "execution_count": null,
   "id": "917af809-4013-45b1-861e-2cd1be21dba1",
   "metadata": {},
   "outputs": [],
   "source": []
  }
 ],
 "metadata": {
  "kernelspec": {
   "display_name": "Python [conda env:base] *",
   "language": "python",
   "name": "conda-base-py"
  },
  "language_info": {
   "codemirror_mode": {
    "name": "ipython",
    "version": 3
   },
   "file_extension": ".py",
   "mimetype": "text/x-python",
   "name": "python",
   "nbconvert_exporter": "python",
   "pygments_lexer": "ipython3",
   "version": "3.12.7"
  }
 },
 "nbformat": 4,
 "nbformat_minor": 5
}
